{
 "cells": [
  {
   "cell_type": "markdown",
   "metadata": {},
   "source": [
    "# Example BIU Usage\n",
    "\n",
    "BIU is a toolkit I made to gather various datasets and tools that I regularly use.\n",
    "This way, I never need to worry about managing the data in files on my computer, I can simply use this package which has wrapper functions for common queries I perform on the datasets.\n",
    "\n",
    "Currently, it allows me to \n",
    "\n",
    " * Download a number of datasets on the fly - when they are needed (and sub-components of these datasets)\n",
    " * Dynamically load datasets when they are needed (They do not consume memory until a query is performed upon them\n",
    " * Query these datasets\n",
    " * Handle various data formats:\n",
    "   * FASTA\n",
    "   * GFF3\n",
    "   * GAF (GO annotation file)\n",
    "   * SQLite databases\n",
    "   * VCF (using the pyvcf package)\n",
    " * Map IDs between various indexing methods"
   ]
  },
  {
   "cell_type": "code",
   "execution_count": 1,
   "metadata": {},
   "outputs": [],
   "source": [
    "import biu as biu\n",
    "import matplotlib.pylab as plt\n",
    "import seaborn as sns\n",
    "import numpy as np\n",
    "import pandas as pd"
   ]
  },
  {
   "cell_type": "markdown",
   "metadata": {},
   "source": [
    "### Change some default settings\n",
    "We can change the default location for all data storage, and turn off debug messages"
   ]
  },
  {
   "cell_type": "code",
   "execution_count": 2,
   "metadata": {},
   "outputs": [
    {
     "name": "stdout",
     "output_type": "stream",
     "text": [
      "We set the default data directory to be: '/exports/molepi/tgehrmann/data/'\n",
      "Turned OFF debug messages\n",
      "Turned ON debug messages\n"
     ]
    }
   ],
   "source": [
    "where = '/exports/molepi/tgehrmann/data/'\n",
    "biu.config.settings.setWhere(where)\n",
    "print(\"We set the default data directory to be: '%s'\" % biu.config.settings.getWhere())\n",
    "\n",
    "biu.config.settings.setDebugState(False)\n",
    "print(\"Turned OFF debug messages\")\n",
    "biu.config.settings.setDebugState(True)\n",
    "print(\"Turned ON debug messages\")"
   ]
  },
  {
   "cell_type": "markdown",
   "metadata": {},
   "source": [
    "## List the available datasets"
   ]
  },
  {
   "cell_type": "code",
   "execution_count": 3,
   "metadata": {},
   "outputs": [
    {
     "name": "stdout",
     "output_type": "stream",
     "text": [
      "Available databases:\n",
      " * BBMRI\n",
      " * CADD\n",
      " * ClinVar\n",
      " * Cosmic\n",
      " * GO\n",
      " * GTeX\n",
      " * Genomes\n",
      " * Gnomad\n",
      " * HAGR\n",
      " * KEGG\n",
      " * LLS\n",
      " * MiRmine\n",
      " * Reactome\n",
      " * UniProt\n"
     ]
    }
   ],
   "source": [
    "biu.db.list()"
   ]
  },
  {
   "cell_type": "markdown",
   "metadata": {},
   "source": [
    "## Open a genome object and load the GFF file"
   ]
  },
  {
   "cell_type": "markdown",
   "metadata": {},
   "source": [
    "Load the genome, and get the GFF file and parse it"
   ]
  },
  {
   "cell_type": "code",
   "execution_count": 4,
   "metadata": {},
   "outputs": [
    {
     "name": "stdout",
     "output_type": "stream",
     "text": [
      "Available versions:\n",
      " * GRCh37\n",
      " * Ensembl_GRCh37\n",
      " * Ensembl_GRCh38_91\n",
      " * RefSeq_GRCh37\n",
      " * RefSeq_GRCh38\n",
      " * WBcel235\n",
      "Genome object\n",
      " Where: /exports/molepi/tgehrmann/data\n",
      " Genome : WBcel235\n",
      " Objects:\n",
      "  * [ ] gff\n",
      "  * [ ] cds\n",
      "  * [ ] aa\n",
      "  * [ ] genome[all]\n",
      " Files:\n",
      "  * [X] gff : /exports/molepi/tgehrmann/data/genome_WBcel235/genome.gff3\n",
      "  * [X] cds : /exports/molepi/tgehrmann/data/genome_WBcel235/cds.fa\n",
      "  * [X] aa : /exports/molepi/tgehrmann/data/genome_WBcel235/aa.fa\n",
      "  * [X] chr_all : /exports/molepi/tgehrmann/data/genome_WBcel235/chrall.fa.gz\n",
      "\n"
     ]
    }
   ],
   "source": [
    "biu.db.listGenomes()\n",
    "hg = biu.db.Genome(\"Ensembl_GRCh37\")\n",
    "ce = biu.db.Genome(\"WBcel235\")\n",
    "print(ce)"
   ]
  },
  {
   "cell_type": "code",
   "execution_count": 9,
   "metadata": {},
   "outputs": [
    {
     "name": "stdout",
     "output_type": "stream",
     "text": [
      "[GFF3Entry(seqid:NC_003279.8, source:RefSeq, feature:exon, start:11641, end:11689, score:., strand:+, phase:., attr:ID=id7;Dbxref=GeneID:171591,Genbank:NM_058259.4,WormBase:WBGene00022276;gbkey=mRNA;gene=nlp-40;partial=true;product=Peptide P4;start_range=.,11641;transcript_id=NM_058259.4), GFF3Entry(seqid:NC_003279.8, source:RefSeq, feature:exon, start:14951, end:15160, score:., strand:+, phase:., attr:ID=id8;Dbxref=GeneID:171591,Genbank:NM_058259.4,WormBase:WBGene00022276;gbkey=mRNA;gene=nlp-40;partial=true;product=Peptide P4;transcript_id=NM_058259.4), GFF3Entry(seqid:NC_003279.8, source:RefSeq, feature:exon, start:16473, end:16585, score:., strand:+, phase:., attr:ID=id9;Dbxref=GeneID:171591,Genbank:NM_058259.4,WormBase:WBGene00022276;end_range=16585,.;gbkey=mRNA;gene=nlp-40;partial=true;product=Peptide P4;transcript_id=NM_058259.4), GFF3Entry(seqid:NC_003279.8, source:RefSeq, feature:CDS, start:11641, end:11689, score:., strand:+, phase:0, attr:ID=cds1;Dbxref=EnsemblGenomes-Gn:WBGene00022276,EnsemblGenomes-Tr:Y74C9A.2a.1,EnsemblGenomes-Tr:Y74C9A.2a.2,EnsemblGenomes-Tr:Y74C9A.2a.3,GOA:Q9N4D8,UniProtKB/Swiss-Prot:Q9N4D8,GeneID:171591,Genbank:NP_490661.1,WormBase:WBGene00022276;Name=NP_490661.1;Note=Confirmed by transcript evidence;gbkey=CDS;gene=nlp-40;product=Peptide P4;protein_id=NP_490661.1;standard_name=Y74C9A.2a), GFF3Entry(seqid:NC_003279.8, source:RefSeq, feature:CDS, start:14951, end:15160, score:., strand:+, phase:2, attr:ID=cds1;Dbxref=EnsemblGenomes-Gn:WBGene00022276,EnsemblGenomes-Tr:Y74C9A.2a.1,EnsemblGenomes-Tr:Y74C9A.2a.2,EnsemblGenomes-Tr:Y74C9A.2a.3,GOA:Q9N4D8,UniProtKB/Swiss-Prot:Q9N4D8,GeneID:171591,Genbank:NP_490661.1,WormBase:WBGene00022276;Name=NP_490661.1;Note=Confirmed by transcript evidence;gbkey=CDS;gene=nlp-40;product=Peptide P4;protein_id=NP_490661.1;standard_name=Y74C9A.2a), GFF3Entry(seqid:NC_003279.8, source:RefSeq, feature:CDS, start:16473, end:16585, score:., strand:+, phase:2, attr:ID=cds1;Dbxref=EnsemblGenomes-Gn:WBGene00022276,EnsemblGenomes-Tr:Y74C9A.2a.1,EnsemblGenomes-Tr:Y74C9A.2a.2,EnsemblGenomes-Tr:Y74C9A.2a.3,GOA:Q9N4D8,UniProtKB/Swiss-Prot:Q9N4D8,GeneID:171591,Genbank:NP_490661.1,WormBase:WBGene00022276;Name=NP_490661.1;Note=Confirmed by transcript evidence;gbkey=CDS;gene=nlp-40;product=Peptide P4;protein_id=NP_490661.1;standard_name=Y74C9A.2a)]\n"
     ]
    },
    {
     "name": "stderr",
     "output_type": "stream",
     "text": [
      "D: GFF input source is list of GFF3Entries.\n"
     ]
    }
   ],
   "source": [
    "print(ce.gff.getChildren('rna2').entries)\n",
    "print(ce.cds[\"NM_058260.4\"] == ce.gff.seq(\"rna1\", ce.genome[\"all\"]))"
   ]
  },
  {
   "cell_type": "code",
   "execution_count": 6,
   "metadata": {},
   "outputs": [
    {
     "name": "stderr",
     "output_type": "stream",
     "text": [
      "D: Initializing the GFF3ResourceManager object NOW\n",
      "D: GFF input source is file.\n",
      "D: GFF input source is list of GFF3Entries.\n",
      "D: Initializing the FastaResourceManager object NOW\n",
      "D: Fasta input source is file\n"
     ]
    },
    {
     "name": "stdout",
     "output_type": "stream",
     "text": [
      "Why doesn't this work?\n",
      "True\n",
      "True\n",
      "True\n"
     ]
    },
    {
     "name": "stderr",
     "output_type": "stream",
     "text": [
      "D: GFF input source is list of GFF3Entries.\n",
      "D: GFF input source is list of GFF3Entries.\n"
     ]
    }
   ],
   "source": [
    "print(ce.cds[\"NM_058260.4\"] == ce.gff.seq(\"rna1\", ce.genome[\"all\"]))\n",
    "\n",
    "print(type(ce.cds[\"NM_058260.4\"]) == type(ce.gff.seq(\"rna1\", ce.genome[\"all\"])))\n",
    "print(ce.gff.seq(\"rna1\", ce.genome[\"all\"]).seq.lower() == ce.cds[\"NM_058260.4\"].seq.lower())\n",
    "\n",
    "#for i, (o,t) in enumerate(zip(ce.cds[\"NM_058260.4\"].seq, ce.gff.seq(\"rna1\", ce.genome[\"all\"]).seq)):\n",
    "#    if o.lower() == t.lower():\n",
    "#        print(i, o, t)"
   ]
  },
  {
   "cell_type": "code",
   "execution_count": 7,
   "metadata": {},
   "outputs": [
    {
     "name": "stderr",
     "output_type": "stream",
     "text": [
      "D: Initializing the GFF3ResourceManager object NOW\n",
      "D: GFF input source is file.\n"
     ]
    },
    {
     "ename": "KeyboardInterrupt",
     "evalue": "",
     "output_type": "error",
     "traceback": [
      "\u001b[0;31m---------------------------------------------------------------------------\u001b[0m",
      "\u001b[0;31mKeyboardInterrupt\u001b[0m                         Traceback (most recent call last)",
      "\u001b[0;32m<ipython-input-7-b445985e5d02>\u001b[0m in \u001b[0;36m<module>\u001b[0;34m()\u001b[0m\n\u001b[1;32m      1\u001b[0m \u001b[0mnTranscriptsPerGene\u001b[0m \u001b[0;34m=\u001b[0m \u001b[0;34m[\u001b[0m\u001b[0;34m]\u001b[0m\u001b[0;34m\u001b[0m\u001b[0m\n\u001b[1;32m      2\u001b[0m \u001b[0mnExonsPerTranscript\u001b[0m \u001b[0;34m=\u001b[0m \u001b[0;34m[\u001b[0m\u001b[0;34m]\u001b[0m\u001b[0;34m\u001b[0m\u001b[0m\n\u001b[0;32m----> 3\u001b[0;31m \u001b[0;32mfor\u001b[0m \u001b[0mgene\u001b[0m \u001b[0;32min\u001b[0m \u001b[0mhg\u001b[0m\u001b[0;34m.\u001b[0m\u001b[0mgff\u001b[0m\u001b[0;34m.\u001b[0m\u001b[0mtopLevel\u001b[0m\u001b[0;34m[\u001b[0m\u001b[0;34m'gene'\u001b[0m\u001b[0;34m]\u001b[0m\u001b[0;34m:\u001b[0m\u001b[0;34m\u001b[0m\u001b[0m\n\u001b[0m\u001b[1;32m      4\u001b[0m     \u001b[0mtranscripts\u001b[0m \u001b[0;34m=\u001b[0m \u001b[0;34m[\u001b[0m \u001b[0mcid\u001b[0m \u001b[0;32mfor\u001b[0m \u001b[0;34m(\u001b[0m\u001b[0mi\u001b[0m\u001b[0;34m,\u001b[0m \u001b[0mcid\u001b[0m\u001b[0;34m)\u001b[0m \u001b[0;32min\u001b[0m \u001b[0mhg\u001b[0m\u001b[0;34m.\u001b[0m\u001b[0mgff\u001b[0m\u001b[0;34m.\u001b[0m\u001b[0mindex\u001b[0m\u001b[0;34m[\u001b[0m\u001b[0mgene\u001b[0m\u001b[0;34m]\u001b[0m\u001b[0;34m[\u001b[0m\u001b[0;36m1\u001b[0m\u001b[0;34m]\u001b[0m \u001b[0;34m]\u001b[0m\u001b[0;34m\u001b[0m\u001b[0m\n\u001b[1;32m      5\u001b[0m     \u001b[0mnTranscriptsPerGene\u001b[0m\u001b[0;34m.\u001b[0m\u001b[0mappend\u001b[0m\u001b[0;34m(\u001b[0m\u001b[0mlen\u001b[0m\u001b[0;34m(\u001b[0m\u001b[0mtranscripts\u001b[0m\u001b[0;34m)\u001b[0m\u001b[0;34m)\u001b[0m\u001b[0;34m\u001b[0m\u001b[0m\n",
      "\u001b[0;32m~/repos/BIU/biu/structures/lazyObject.py\u001b[0m in \u001b[0;36m__getattr__\u001b[0;34m(self, name)\u001b[0m\n\u001b[1;32m     18\u001b[0m   \u001b[0;32mdef\u001b[0m \u001b[0m__getattr__\u001b[0m\u001b[0;34m(\u001b[0m\u001b[0mself\u001b[0m\u001b[0;34m,\u001b[0m \u001b[0mname\u001b[0m\u001b[0;34m)\u001b[0m\u001b[0;34m:\u001b[0m\u001b[0;34m\u001b[0m\u001b[0m\n\u001b[1;32m     19\u001b[0m     \u001b[0;32mif\u001b[0m \u001b[0mself\u001b[0m\u001b[0;34m.\u001b[0m\u001b[0m__dict__\u001b[0m\u001b[0;34m[\u001b[0m\u001b[0;34m\"_obj\"\u001b[0m\u001b[0;34m]\u001b[0m \u001b[0;32mis\u001b[0m \u001b[0;32mNone\u001b[0m\u001b[0;34m:\u001b[0m\u001b[0;34m\u001b[0m\u001b[0m\n\u001b[0;32m---> 20\u001b[0;31m       \u001b[0mself\u001b[0m\u001b[0;34m.\u001b[0m\u001b[0m__init_obj\u001b[0m\u001b[0;34m(\u001b[0m\u001b[0;34m)\u001b[0m\u001b[0;34m\u001b[0m\u001b[0m\n\u001b[0m\u001b[1;32m     21\u001b[0m     \u001b[0;31m#fi\u001b[0m\u001b[0;34m\u001b[0m\u001b[0;34m\u001b[0m\u001b[0m\n\u001b[1;32m     22\u001b[0m     \u001b[0;32mreturn\u001b[0m \u001b[0mgetattr\u001b[0m\u001b[0;34m(\u001b[0m\u001b[0mself\u001b[0m\u001b[0;34m.\u001b[0m\u001b[0m__dict__\u001b[0m\u001b[0;34m[\u001b[0m\u001b[0;34m\"_obj\"\u001b[0m\u001b[0;34m]\u001b[0m\u001b[0;34m,\u001b[0m \u001b[0mname\u001b[0m\u001b[0;34m)\u001b[0m\u001b[0;34m\u001b[0m\u001b[0m\n",
      "\u001b[0;32m~/repos/BIU/biu/structures/lazyObject.py\u001b[0m in \u001b[0;36m__init_obj\u001b[0;34m(self)\u001b[0m\n\u001b[1;32m     13\u001b[0m     \u001b[0mself\u001b[0m\u001b[0;34m.\u001b[0m\u001b[0m__dict__\u001b[0m\u001b[0;34m[\u001b[0m\u001b[0;34m\"_obj\"\u001b[0m\u001b[0;34m]\u001b[0m\u001b[0;34m=\u001b[0m\u001b[0mobject\u001b[0m\u001b[0;34m.\u001b[0m\u001b[0m__new__\u001b[0m\u001b[0;34m(\u001b[0m\u001b[0mself\u001b[0m\u001b[0;34m.\u001b[0m\u001b[0m__dict__\u001b[0m\u001b[0;34m[\u001b[0m\u001b[0;34m\"_cls\"\u001b[0m\u001b[0;34m]\u001b[0m\u001b[0;34m)\u001b[0m\u001b[0;34m\u001b[0m\u001b[0m\n\u001b[1;32m     14\u001b[0m     self.__dict__[\"_obj\"].__init__(*self.__dict__[\"_params\"],\n\u001b[0;32m---> 15\u001b[0;31m                                    **self.__dict__[\"_kwargs\"])\n\u001b[0m\u001b[1;32m     16\u001b[0m   \u001b[0;31m#edef\u001b[0m\u001b[0;34m\u001b[0m\u001b[0;34m\u001b[0m\u001b[0m\n\u001b[1;32m     17\u001b[0m \u001b[0;34m\u001b[0m\u001b[0m\n",
      "\u001b[0;32m~/repos/BIU/biu/structures/resourceManager.py\u001b[0m in \u001b[0;36m__init__\u001b[0;34m(self, fmObject, gff3File, **kwargs)\u001b[0m\n\u001b[1;32m    131\u001b[0m     \u001b[0mResourceManager\u001b[0m\u001b[0;34m.\u001b[0m\u001b[0m__init__\u001b[0m\u001b[0;34m(\u001b[0m\u001b[0mself\u001b[0m\u001b[0;34m,\u001b[0m \u001b[0mfmObject\u001b[0m\u001b[0;34m,\u001b[0m \u001b[0;34m[\u001b[0m \u001b[0mgff3File\u001b[0m \u001b[0;34m]\u001b[0m\u001b[0;34m)\u001b[0m\u001b[0;34m\u001b[0m\u001b[0m\n\u001b[1;32m    132\u001b[0m     \u001b[0;32mif\u001b[0m \u001b[0mself\u001b[0m\u001b[0;34m.\u001b[0m\u001b[0m_initialized\u001b[0m\u001b[0;34m:\u001b[0m\u001b[0;34m\u001b[0m\u001b[0m\n\u001b[0;32m--> 133\u001b[0;31m       \u001b[0mformats\u001b[0m\u001b[0;34m.\u001b[0m\u001b[0mGFF3\u001b[0m\u001b[0;34m.\u001b[0m\u001b[0m__init__\u001b[0m\u001b[0;34m(\u001b[0m\u001b[0mself\u001b[0m\u001b[0;34m,\u001b[0m \u001b[0mself\u001b[0m\u001b[0;34m.\u001b[0m\u001b[0m_fmObject\u001b[0m\u001b[0;34m.\u001b[0m\u001b[0mgetFileName\u001b[0m\u001b[0;34m(\u001b[0m\u001b[0mgff3File\u001b[0m\u001b[0;34m)\u001b[0m\u001b[0;34m,\u001b[0m \u001b[0;34m**\u001b[0m\u001b[0mkwargs\u001b[0m\u001b[0;34m)\u001b[0m\u001b[0;34m\u001b[0m\u001b[0m\n\u001b[0m\u001b[1;32m    134\u001b[0m     \u001b[0;31m#fi\u001b[0m\u001b[0;34m\u001b[0m\u001b[0;34m\u001b[0m\u001b[0m\n\u001b[1;32m    135\u001b[0m   \u001b[0;31m#edef\u001b[0m\u001b[0;34m\u001b[0m\u001b[0;34m\u001b[0m\u001b[0m\n",
      "\u001b[0;32m~/repos/BIU/biu/formats/gff3Utils.py\u001b[0m in \u001b[0;36m__init__\u001b[0;34m(self, data, **kwargs)\u001b[0m\n\u001b[1;32m    137\u001b[0m     \u001b[0;31m#fi\u001b[0m\u001b[0;34m\u001b[0m\u001b[0;34m\u001b[0m\u001b[0m\n\u001b[1;32m    138\u001b[0m     \u001b[0mself\u001b[0m\u001b[0;34m.\u001b[0m\u001b[0mseqids\u001b[0m  \u001b[0;34m=\u001b[0m \u001b[0mset\u001b[0m\u001b[0;34m(\u001b[0m\u001b[0;34m[\u001b[0m \u001b[0me\u001b[0m\u001b[0;34m.\u001b[0m\u001b[0mseqid\u001b[0m \u001b[0;32mfor\u001b[0m \u001b[0me\u001b[0m \u001b[0;32min\u001b[0m \u001b[0mself\u001b[0m\u001b[0;34m.\u001b[0m\u001b[0mentries\u001b[0m\u001b[0;34m]\u001b[0m\u001b[0;34m)\u001b[0m\u001b[0;34m\u001b[0m\u001b[0m\n\u001b[0;32m--> 139\u001b[0;31m     \u001b[0mself\u001b[0m\u001b[0;34m.\u001b[0m\u001b[0m__index\u001b[0m\u001b[0;34m,\u001b[0m \u001b[0mself\u001b[0m\u001b[0;34m.\u001b[0m\u001b[0mtopLevel\u001b[0m \u001b[0;34m=\u001b[0m \u001b[0mself\u001b[0m\u001b[0;34m.\u001b[0m\u001b[0m_index\u001b[0m\u001b[0;34m(\u001b[0m\u001b[0;34m)\u001b[0m\u001b[0;34m\u001b[0m\u001b[0m\n\u001b[0m\u001b[1;32m    140\u001b[0m   \u001b[0;31m#edef\u001b[0m\u001b[0;34m\u001b[0m\u001b[0;34m\u001b[0m\u001b[0m\n\u001b[1;32m    141\u001b[0m \u001b[0;34m\u001b[0m\u001b[0m\n",
      "\u001b[0;32m~/repos/BIU/biu/formats/gff3Utils.py\u001b[0m in \u001b[0;36m_index\u001b[0;34m(self)\u001b[0m\n\u001b[1;32m    169\u001b[0m \u001b[0;34m\u001b[0m\u001b[0m\n\u001b[1;32m    170\u001b[0m       \u001b[0mparent\u001b[0m \u001b[0;34m=\u001b[0m \u001b[0me\u001b[0m\u001b[0;34m.\u001b[0m\u001b[0mparent\u001b[0m\u001b[0;34m\u001b[0m\u001b[0m\n\u001b[0;32m--> 171\u001b[0;31m       \u001b[0;32mif\u001b[0m \u001b[0mID\u001b[0m \u001b[0;32mnot\u001b[0m \u001b[0;32min\u001b[0m \u001b[0midx\u001b[0m\u001b[0;34m:\u001b[0m\u001b[0;34m\u001b[0m\u001b[0m\n\u001b[0m\u001b[1;32m    172\u001b[0m         \u001b[0midx\u001b[0m\u001b[0;34m[\u001b[0m\u001b[0mID\u001b[0m\u001b[0;34m]\u001b[0m \u001b[0;34m=\u001b[0m \u001b[0;34m[\u001b[0m\u001b[0mi\u001b[0m\u001b[0;34m,\u001b[0m \u001b[0;34m[\u001b[0m\u001b[0;34m]\u001b[0m \u001b[0;34m]\u001b[0m\u001b[0;34m\u001b[0m\u001b[0m\n\u001b[1;32m    173\u001b[0m       \u001b[0;32melse\u001b[0m\u001b[0;34m:\u001b[0m\u001b[0;34m\u001b[0m\u001b[0m\n",
      "\u001b[0;31mKeyboardInterrupt\u001b[0m: "
     ]
    }
   ],
   "source": [
    "nTranscriptsPerGene = []\n",
    "nExonsPerTranscript = []\n",
    "for gene in hg.gff.topLevel['gene']:\n",
    "    transcripts = [ cid for (i, cid) in hg.gff.index[gene][1] ]\n",
    "    nTranscriptsPerGene.append(len(transcripts))\n",
    "    for trans in transcripts:\n",
    "        nExonsPerTranscript.append(len(hg.gff.index[trans][1]))\n",
    "    #efor\n",
    "#efor\n",
    "\n",
    "fig, axes = plt.subplots(figsize=(12,4), ncols=2, nrows=1)\n",
    "axes = axes.flatten()\n",
    "axes[0].hist(nTranscriptsPerGene, bins=20)\n",
    "axes[0].set_xlabel(\"Number of transcripts\")\n",
    "axes[0].set_ylabel(\"Number of genes\")\n",
    "axes[1].hist(nExonsPerTranscript, bins=20, log=True)\n",
    "axes[1].set_xlabel(\"Number of exons\")\n",
    "axes[1].set_ylabel(\"Number of genes\")\n",
    "plt.show()"
   ]
  },
  {
   "cell_type": "markdown",
   "metadata": {},
   "source": [
    "## Access the Uniprot database"
   ]
  },
  {
   "cell_type": "code",
   "execution_count": null,
   "metadata": {},
   "outputs": [],
   "source": [
    "uniprot = biu.db.UniProt(\"human\")\n",
    "print(uniprot)"
   ]
  },
  {
   "cell_type": "code",
   "execution_count": null,
   "metadata": {},
   "outputs": [],
   "source": [
    "for result in uniprot.getProteinDomains('P42345'):\n",
    "    print(result)"
   ]
  },
  {
   "cell_type": "markdown",
   "metadata": {},
   "source": [
    "## Access the ClinVar database"
   ]
  },
  {
   "cell_type": "code",
   "execution_count": null,
   "metadata": {},
   "outputs": [],
   "source": [
    "cv = biu.db.ClinVar(\"GRCh37\")\n",
    "print(cv)"
   ]
  },
  {
   "cell_type": "code",
   "execution_count": null,
   "metadata": {},
   "outputs": [],
   "source": [
    "alts = { n : 0 for n in 'ACGT'}\n",
    "for record in cv.queryVCF(1, 949422, 1049422):\n",
    "    for alt in record.ALT:\n",
    "        alt = alt.sequence\n",
    "        if alt in alts:\n",
    "            alts[alt] += 1\n",
    "\n",
    "cImpact = {}\n",
    "for record in cv.querySummary(1, 949422, 1049422):\n",
    "    if record.clinicalsignificance not in cImpact:\n",
    "        cImpact[record.clinicalsignificance] = 0\n",
    "    cImpact[record.clinicalsignificance] += 1\n",
    "\n",
    "fig, axes = plt.subplots(figsize=(12,4), ncols=2, nrows=1)\n",
    "axes = axes.flatten()\n",
    "\n",
    "nbars = axes[0].bar([1,2,3,4], alts.values(), tick_label=list(alts.keys()))\n",
    "\n",
    "nbars = axes[1].bar([ x + 1 for x in range(len(cImpact.keys())) ], cImpact.values(), tick_label=list(cImpact.keys()))\n",
    "plt.xticks(rotation=90)\n",
    "plt.show()"
   ]
  },
  {
   "cell_type": "markdown",
   "metadata": {},
   "source": [
    "## Access the CADD database\n",
    "If you have pre-existing files elsewhere, you can tell the system where they are exactly with the \"localCopy\" argument, and it will make a symbolic link to our local copy."
   ]
  },
  {
   "cell_type": "code",
   "execution_count": null,
   "metadata": {},
   "outputs": [],
   "source": [
    "cadd = biu.db.CADD(localCopy = {\"tsv\" : \"/exports/molepi/tgehrmann/GAVIN-reimp/CADD/cadd.tsv.bgz\", \n",
    "                                \"tsv_tbi\" : \"/exports/molepi/tgehrmann/GAVIN-reimp/CADD/cadd.tsv.bgz.tbi\"})\n",
    "print(cadd)"
   ]
  },
  {
   "cell_type": "code",
   "execution_count": null,
   "metadata": {},
   "outputs": [],
   "source": [
    "plt.hist([ float(p) for p in cadd.query(1, 0, 1000000).values() ], bins=200)\n",
    "plt.xlabel(\"CADD score\")\n",
    "plt.show()"
   ]
  },
  {
   "cell_type": "markdown",
   "metadata": {},
   "source": [
    "## Access the GnomAD database"
   ]
  },
  {
   "cell_type": "code",
   "execution_count": null,
   "metadata": {},
   "outputs": [],
   "source": [
    "gnomad = biu.db.Gnomad(localCopy = { \"vcf\" : \"/exports/molepi/tgehrmann/GAVIN-reimp/gnomAD/gnomad.vcf.bgz\",\n",
    "                                     \"vcf_tbi\" : \"/exports/molepi/tgehrmann/GAVIN-reimp/gnomAD/gnomad.vcf.bgz.tbi\"})\n",
    "print(gnomad)"
   ]
  },
  {
   "cell_type": "markdown",
   "metadata": {},
   "source": [
    "### How to query from VCF files.\n",
    "There are different options to filter queries:\n",
    " * filters : Filter Variants based on a list of filters\n",
    " * gtFilters : Filter genotype calls based on a list of filters\n",
    " * types : Filter variants based on variant types\n",
    " * subTypes : Filter variants based on more specific variant types\n",
    " * sampleFilters : Filter sample calls based on a list of sample names. IMPORTANT: THIS WILL SELECT THOSE IN THE LIST, NOT FILTER THEM OUT!!\n",
    " \n",
    "These options can be used in any VCF query structure (e.g. clinVar, GnomAD, COSMIC, LLS, BBMRI)"
   ]
  },
  {
   "cell_type": "code",
   "execution_count": null,
   "metadata": {},
   "outputs": [],
   "source": [
    "filters = [ \"AMBIGUOUS\",\"VQLOW\",\"NVLOC\",\"CALLRATE\",\"MULTI\",\"RECMULTI\"]\n",
    "types = [ \"snp\" ]\n",
    "\n",
    "print(\"Without snp filter:\", len(list(gnomad.query(1, 324719, 324720, filters=filters))))\n",
    "print(\"With snp filter:\", len(list(gnomad.query(1, 324719, 324720, filters=filters, types=types))))\n",
    "print(\"With RF filter:\", len(list(gnomad.query(1, 324719, 324720, filters=filters + ['RF'], types=types))))"
   ]
  },
  {
   "cell_type": "code",
   "execution_count": null,
   "metadata": {},
   "outputs": [],
   "source": [
    "lls = biu.db.LLS(localCopy={\"phen\" : \"/home/tgehrmann/repos/VAR/phen218.txt\"})\n",
    "\n",
    "# Define the filters we want to use for the Variant calls:\n",
    "varFilters = [ \"AMBIGUOUS\",\"VQLOW\",\"NVLOC\",\"CALLRATE\",\"MULTI\",\"RECMULTI\"]\n",
    "\n",
    "# We are only interested in SNPs\n",
    "varTypes = [ \"snp\" ]\n",
    "\n",
    "# Within the LLS, we are only interested in 218 people, 4 of them we want to exclude (REMINDER: ask Erik why...)\n",
    "varSampleFilters = lls.phenotypes[\"cgID\"].apply(lambda x: x + '_240_37-ASM').values\n",
    "\n",
    "V = lls.query(1, 26883510, 26883511, filters=varFilters, types=varTypes, sampleFilters=varSampleFilters)\n",
    "S = lls.query(1, 26883510, 26883511, filters=varFilters, types=varTypes, sampleFilters=varSampleFilters, extract=\"summary\")\n",
    "\n",
    "biu.formats.VCF.summary(V)\n",
    "S\n"
   ]
  },
  {
   "cell_type": "code",
   "execution_count": null,
   "metadata": {},
   "outputs": [],
   "source": [
    "V = lls.query(1, 26883510, 26883511, extract=\"raw\")"
   ]
  },
  {
   "cell_type": "code",
   "execution_count": null,
   "metadata": {},
   "outputs": [],
   "source": [
    "alts = { n : 0 for n in 'ACGT'}\n",
    "for record in gnomad.queryVCF(1, 12590, 13000):\n",
    "    for alt in record.ALT:\n",
    "        alt = alt.sequence\n",
    "        if alt in alts:\n",
    "            alts[alt] += 1\n",
    "\n",
    "x = []; y = []\n",
    "for record in gnomad.queryCov(1, 12590, 13000, namedtuple=True):\n",
    "    x.append(int(record.pos))\n",
    "    y.append(float(record.mean))\n",
    "\n",
    "gene = \"gene:ENSG00000146648\"\n",
    "gEntry = hg.gff.getID(gene)\n",
    "genex = []; geney=[]\n",
    "for record in gnomad.queryCov(1, gEntry.start, gEntry.end, namedtuple=True):    \n",
    "    genex.append(int(record.pos))\n",
    "    geney.append(float(record.mean))\n",
    "\n",
    "fig, axes = plt.subplots(figsize=(12,4), ncols=3, nrows=1)\n",
    "axes = axes.flatten()\n",
    "\n",
    "nbars = axes[0].bar([1,2,3,4], alts.values(), tick_label=list(alts.keys()))\n",
    "axes[1].plot(x,y)\n",
    "axes[2].plot(genex,geney)\n",
    "\n",
    "plt.show()"
   ]
  },
  {
   "cell_type": "markdown",
   "metadata": {},
   "source": [
    "## GTeX access\n",
    "Because GTeX is behind this ugly google login, you have to provide the files yourself.\n",
    "This can be done by specifying the exact location of the data.\n",
    "While the other datasets place the files deeper than the 'where' that you specify, GTeX will look EXACTLY for the following files:\n",
    " * `'where'/GTEx_Analysis_2016-01-15_v7_RNASeQCv1.1.8_gene_tpm.gct.gz`\n",
    " * `'where'/GTEx_Analysis_2016-01-15_v7_RSEMv1.2.22_transcript_tpm.txt.gz`\n",
    " * `'where'/GTEx_v7_Annotations_SampleAttributesDS.txt`\n",
    " * `'where'/GTEx_v7_Annotations_SubjectPhenotypesDS.txt`\n"
   ]
  },
  {
   "cell_type": "code",
   "execution_count": null,
   "metadata": {},
   "outputs": [],
   "source": [
    "where = '/exports/molepi/tgehrmann/data/'\n",
    "import biu as biu\n",
    "biu.config.settings.setWhere(where)\n",
    "gtex = biu.db.GTeX(version=\"v7\",\n",
    "                   where=\"/exports/molepi/tgehrmann/data/gtex\")\n",
    "print(gtex)"
   ]
  },
  {
   "cell_type": "code",
   "execution_count": null,
   "metadata": {},
   "outputs": [],
   "source": [
    "print(gtex.getPersonIDSamples(gtex.getPersonIDs()[0]))\n",
    "%time gtex.getGeneExpr(gtex.getPe rsonIDSamples(gtex.getPersonIDs()[0]))"
   ]
  },
  {
   "cell_type": "code",
   "execution_count": null,
   "metadata": {},
   "outputs": [],
   "source": [
    "pTissues = {}\n",
    "for i, row in gtex.sAttr.iterrows():\n",
    "    if row[\"SMAFRZE\"] != \"RNASEQ\":\n",
    "        continue\n",
    "    #fi\n",
    "    personID = row[\"SAMPID\"].split('-')[1]\n",
    "    sampleType = row[\"SMTSD\"]\n",
    "    if personID not in pTissues:\n",
    "        pTissues[personID] = []\n",
    "    pTissues[personID].append(sampleType)\n",
    "\n",
    "indivTissues = sorted(list(set(gtex.sAttr[\"SMTSD\"])))\n",
    "pairwiseTissueCounts = {}\n",
    "for personID in pTissues:\n",
    "    tissues = list(set(pTissues[personID]))\n",
    "    for i, samplei in enumerate(tissues[:-1]):\n",
    "        for j, samplej in enumerate(tissues[i+1:]):\n",
    "            key = (samplei, samplej)\n",
    "            if key not in pairwiseTissueCounts:\n",
    "                pairwiseTissueCounts[key] = 0\n",
    "            pairwiseTissueCounts[(samplei, samplej)] += 1\n",
    "\n",
    "indivTissuesMap = { t: i for (i,t) in enumerate(list(indivTissues)) }\n",
    "\n",
    "C = np.zeros([len(indivTissues), len(indivTissues)])\n",
    "for (t1,t2) in pairwiseTissueCounts:\n",
    "    C[indivTissuesMap[t1], indivTissuesMap[t2]] = int(pairwiseTissueCounts.get((t1,t2),0) +\n",
    "                                                  pairwiseTissueCounts.get((t2,t1),0))\n",
    "    C[indivTissuesMap[t2], indivTissuesMap[t1]] = int(pairwiseTissueCounts.get((t1,t2),0) +\n",
    "                                                  pairwiseTissueCounts.get((t2,t1),0))"
   ]
  },
  {
   "cell_type": "code",
   "execution_count": null,
   "metadata": {},
   "outputs": [],
   "source": [
    "fig, ax = plt.subplots(figsize=(40,40))\n",
    "sns.heatmap(C, ax = ax, xticklabels=indivTissues, yticklabels=indivTissues, annot=True, fmt='.0f')\n",
    "plt.show()"
   ]
  },
  {
   "cell_type": "code",
   "execution_count": null,
   "metadata": {},
   "outputs": [],
   "source": [
    "interestTissues = [ 'Adipose - Subcutaneous', 'Adipose - Visceral (Omentum)', 'Muscle - Skeletal', \"Whole Blood\" ]\n",
    "interestTissuesIndex = [ indivTissuesMap[t] for t in interestTissues ]\n",
    "\n",
    "fig, ax = plt.subplots(figsize=(10,10))\n",
    "sns.heatmap(C[interestTissuesIndex,:][:,interestTissuesIndex], ax = ax, xticklabels=interestTissues, yticklabels=interestTissues, annot=True, fmt='.1f')\n",
    "plt.show()"
   ]
  },
  {
   "cell_type": "markdown",
   "metadata": {},
   "source": [
    "## Reactome access\n",
    "Doesn't really work yet"
   ]
  },
  {
   "cell_type": "code",
   "execution_count": null,
   "metadata": {},
   "outputs": [],
   "source": [
    "#reactome = biu.db.Reactome(where=where + '/reactome')\n",
    "#print(reactome)\n",
    "#for r in reactome.getPathway(\"R-HSA-1236973\"):\n",
    "#    print(r)"
   ]
  },
  {
   "cell_type": "markdown",
   "metadata": {},
   "source": [
    "## Cosmic access"
   ]
  },
  {
   "cell_type": "code",
   "execution_count": null,
   "metadata": {},
   "outputs": [],
   "source": [
    "cosmic = biu.db.Cosmic(\"t.gehrmann@lumc.nl\", \"Cosmic_password1\")\n",
    "print(cosmic)"
   ]
  },
  {
   "cell_type": "code",
   "execution_count": null,
   "metadata": {},
   "outputs": [],
   "source": [
    "for r in cosmic.vcfCoding.query(1, 1, 69270):\n",
    "    print(r)"
   ]
  },
  {
   "cell_type": "code",
   "execution_count": null,
   "metadata": {},
   "outputs": [],
   "source": [
    "for r in cosmic.vcfNonCoding.query(1, 1, 69270):\n",
    "    print(r)"
   ]
  },
  {
   "cell_type": "markdown",
   "metadata": {},
   "source": [
    "## Gene mapping"
   ]
  },
  {
   "cell_type": "markdown",
   "metadata": {},
   "source": [
    "### Do gene mapping with pickled maps\n",
    "Faster operations, but slow initialization + more memory usage"
   ]
  },
  {
   "cell_type": "code",
   "execution_count": null,
   "metadata": {},
   "outputs": [],
   "source": [
    "import biu\n",
    "hm = biu.maps.Human(where=\"/exports/molepi/tgehrmann/data/\")\n",
    "print(hm)\n",
    "\n",
    "def exampleMapping(GMO):\n",
    "    # GMO : Gene Mapping Object\n",
    "    symbol = \"MTOR\"\n",
    "    geneid = GMO.getSymbolGeneID(symbol)[0]\n",
    "    print(\"%s -> %s\" % (symbol, geneid))\n",
    "    symbol = GMO.getGeneIDSymbol(geneid)[0]\n",
    "    print(\"%s -> %s\" % (geneid, symbol))\n",
    "    ensembl = GMO.getSymbolEnsembl(symbol)[0]\n",
    "    print(\"%s -> %s\" % (symbol, ensembl))\n",
    "    symbol = GMO.getEnsemblSymbol(ensembl)[0]\n",
    "    print(\"%s -> %s\" % (ensembl, symbol))\n",
    "#edef\n",
    "\n",
    "def exampleMappingSilent(GMO):\n",
    "    # GMO : Gene Mapping Object\n",
    "    symbol = \"MTOR\"\n",
    "    geneid = GMO.getSymbolGeneID(symbol)[0]\n",
    "    symbol = GMO.getGeneIDSymbol(geneid)[0]\n",
    "    ensembl = GMO.getSymbolEnsembl(symbol)[0]\n",
    "    symbol = GMO.getEnsemblSymbol(ensembl)[0]\n",
    "#edef"
   ]
  },
  {
   "cell_type": "code",
   "execution_count": null,
   "metadata": {},
   "outputs": [],
   "source": [
    "exampleMapping(hm)"
   ]
  },
  {
   "cell_type": "markdown",
   "metadata": {},
   "source": [
    "### Mapping with SQLite instead of pickled Maps\n",
    "Fast initialization, but slower operations.\n",
    "Because of the high speed initialization, we can perform queries on a larger number of structures, including the gene2refseq index, and the uniprotmap, which is prohibitively large for the map."
   ]
  },
  {
   "cell_type": "code",
   "execution_count": null,
   "metadata": {},
   "outputs": [],
   "source": [
    "where = '/exports/molepi/tgehrmann/data/'\n",
    "import biu as biu\n",
    "biu.config.settings.setWhere(where)\n",
    "print(biu.config.settings.getWhere())\n",
    "hms = biu.maps.HumanS()\n",
    "print(hms)"
   ]
  },
  {
   "cell_type": "code",
   "execution_count": null,
   "metadata": {},
   "outputs": [],
   "source": [
    "exampleMapping(hms)"
   ]
  },
  {
   "cell_type": "markdown",
   "metadata": {},
   "source": [
    "### Compare Map vs SQLite speeds"
   ]
  },
  {
   "cell_type": "code",
   "execution_count": null,
   "metadata": {},
   "outputs": [],
   "source": [
    "print(\"Map Lookup\")\n",
    "%timeit exampleMappingSilent(hm)\n",
    "print(\"SQLite lookup\")\n",
    "%timeit exampleMappingSilent(hms)"
   ]
  },
  {
   "cell_type": "markdown",
   "metadata": {},
   "source": [
    "## HAGR access\n",
    "Unlike others, HAGR is downloaded already entirely when the class is initiated (because they are in ZIP files, and I don't have a nice solution for this yet)"
   ]
  },
  {
   "cell_type": "code",
   "execution_count": null,
   "metadata": {},
   "outputs": [],
   "source": [
    "import biu as biu\n",
    "hagr = biu.db.HAGR(where = '/exports/molepi/tgehrmann/data/')\n",
    "print(hagr)"
   ]
  },
  {
   "cell_type": "code",
   "execution_count": null,
   "metadata": {},
   "outputs": [],
   "source": [
    "hagr.human_genes"
   ]
  },
  {
   "cell_type": "markdown",
   "metadata": {},
   "source": [
    "## Access GO annotations"
   ]
  },
  {
   "cell_type": "code",
   "execution_count": null,
   "metadata": {},
   "outputs": [],
   "source": [
    "where = '/exports/molepi/tgehrmann/data/'\n",
    "import biu as biu\n",
    "biu.config.settings.setWhere(where)\n",
    "print(biu.config.settings.getWhere())\n",
    "go = biu.db.GO()\n",
    "print(go)"
   ]
  },
  {
   "cell_type": "code",
   "execution_count": null,
   "metadata": {},
   "outputs": [],
   "source": [
    "print(\"Number of genes annotated with GO:0002250: %d\" % len(go.getAnnotated(\"GO:0002250\")))\n",
    "\n",
    "print(\"Number of annotations for P78540: %d\" % len(go.getAnnots(\"P78540\")))"
   ]
  },
  {
   "cell_type": "markdown",
   "metadata": {},
   "source": [
    "## Access KEGG annotations"
   ]
  },
  {
   "cell_type": "code",
   "execution_count": null,
   "metadata": {},
   "outputs": [],
   "source": [
    "where = '/exports/molepi/tgehrmann/data/'\n",
    "import biu as biu\n",
    "biu.config.settings.setWhere(where)\n",
    "print(biu.config.settings.getWhere())\n",
    "kegg = biu.db.KEGG()\n",
    "hms = biu.maps.HumanS()"
   ]
  },
  {
   "cell_type": "code",
   "execution_count": null,
   "metadata": {},
   "outputs": [],
   "source": [
    "print(kegg)"
   ]
  },
  {
   "cell_type": "code",
   "execution_count": null,
   "metadata": {},
   "outputs": [],
   "source": [
    "print(\"Number of pathways MTOR is in: %d\" % len(kegg.getGenePathways(hms.getSymbolGeneID(\"MTOR\")[0])))\n",
    "\n",
    "print(\"Number of genes in path:hsa05230: %d\" % len(kegg.getPathwayGenes(\"path:hsa05230\")))"
   ]
  },
  {
   "cell_type": "code",
   "execution_count": null,
   "metadata": {},
   "outputs": [],
   "source": [
    "print(kegg.getPathwayInfo(\"hsa05230\"))"
   ]
  },
  {
   "cell_type": "code",
   "execution_count": null,
   "metadata": {},
   "outputs": [],
   "source": [
    "fig, axes = plt.subplots(figsize=(12,4), ncols=2, nrows=1)\n",
    "axes = axes.flatten()\n",
    "\n",
    "# How many genes are there per kegg pathway?\n",
    "genesPerPathway = [ len(kegg.getPathwayGenes(p)) for p in kegg.getPathways() ]\n",
    "pathwaysPerGene = [ len(kegg.getGenePathways(g)) for g in kegg.getGenes() ]\n",
    "\n",
    "axes[0].hist(genesPerPathway, bins=50)\n",
    "axes[0].set_xlabel(\"Number of genes per pathway\")\n",
    "axes[1].hist(pathwaysPerGene, bins=50)\n",
    "axes[1].set_xlabel(\"Number of pathways per gene\")\n",
    "plt.show()"
   ]
  },
  {
   "cell_type": "markdown",
   "metadata": {},
   "source": [
    "## Access LLS data"
   ]
  },
  {
   "cell_type": "code",
   "execution_count": null,
   "metadata": {},
   "outputs": [],
   "source": [
    "lls = biu.db.LLS()"
   ]
  },
  {
   "cell_type": "code",
   "execution_count": null,
   "metadata": {},
   "outputs": [],
   "source": [
    "for r in lls.queryRegions([ (\"1\", 100, 100000), (\"1\", 100, 100000)]):\n",
    "    print(r)"
   ]
  },
  {
   "cell_type": "markdown",
   "metadata": {},
   "source": [
    "## Access BBMRI data"
   ]
  },
  {
   "cell_type": "code",
   "execution_count": null,
   "metadata": {},
   "outputs": [],
   "source": [
    "bbmri = biu.db.BBMRI()"
   ]
  },
  {
   "cell_type": "markdown",
   "metadata": {},
   "source": [
    "## Store some variables persistently in a SQLite database"
   ]
  },
  {
   "cell_type": "code",
   "execution_count": null,
   "metadata": {},
   "outputs": [],
   "source": [
    "pDict = biu.formats.SQLDict(\"test\")\n",
    "print(pDict)"
   ]
  },
  {
   "cell_type": "code",
   "execution_count": null,
   "metadata": {},
   "outputs": [],
   "source": [
    "pDict[\"test\"] = { 5: \"hello\", \"aha\" : [ 1, 4, \"345\"]}\n",
    "print(\"test -> \", pDict[\"test\"])\n",
    "print(\"yest -> \", pDict[\"yest\"])\n",
    "\n",
    "for x in pDict:\n",
    "    print(x)"
   ]
  },
  {
   "cell_type": "markdown",
   "metadata": {},
   "source": [
    "### Access miRmine database"
   ]
  },
  {
   "cell_type": "code",
   "execution_count": null,
   "metadata": {},
   "outputs": [],
   "source": [
    "import biu\n",
    "where = '/exports/molepi/tgehrmann/data/'\n",
    "biu.config.settings.setWhere(where)"
   ]
  },
  {
   "cell_type": "code",
   "execution_count": null,
   "metadata": {},
   "outputs": [],
   "source": [
    "mir = biu.db.MiRmine()"
   ]
  },
  {
   "cell_type": "code",
   "execution_count": null,
   "metadata": {},
   "outputs": [],
   "source": [
    "print(mir)"
   ]
  },
  {
   "cell_type": "code",
   "execution_count": null,
   "metadata": {},
   "outputs": [],
   "source": [
    "mir.getExpr([\"DRX003170\", \"DRX003171\", \"DRX017209\"])"
   ]
  },
  {
   "cell_type": "code",
   "execution_count": null,
   "metadata": {},
   "outputs": [],
   "source": [
    "set(mir._info[\"Tissue\"][mir._info[\"Tissue\"].apply(lambda x: not(pd.isnull(x)))].values)"
   ]
  },
  {
   "cell_type": "markdown",
   "metadata": {},
   "source": [
    "## Use pipelines"
   ]
  },
  {
   "cell_type": "markdown",
   "metadata": {},
   "source": [
    "### Use the VEP pipeline"
   ]
  },
  {
   "cell_type": "code",
   "execution_count": null,
   "metadata": {},
   "outputs": [],
   "source": [
    "import biu as biu\n",
    "where = '/exports/molepi/tgehrmann/data/'\n",
    "biu.config.settings.setWhere(where)\n",
    "\n",
    "lls = biu.db.LLS()\n",
    "varList = list([ r for r in lls.query(1, 10483, 10495)])\n",
    "vep = biu.pipelines.VEP(varList)\n",
    "vep.getAnnotations()"
   ]
  },
  {
   "cell_type": "markdown",
   "metadata": {},
   "source": [
    "### Use the LiftOver Pipeline"
   ]
  },
  {
   "cell_type": "code",
   "execution_count": null,
   "metadata": {},
   "outputs": [],
   "source": [
    "import biu as biu\n",
    "where = '/exports/molepi/tgehrmann/data/'\n",
    "biu.config.settings.setWhere(where)\n",
    "\n",
    "lls = biu.db.LLS()\n",
    "varList = [ (r.CHROM, r.POS-1, r.POS) for r in lls.query(5, 42423775, 42426000, filt=['VQLOW'])]\n",
    "varLift = biu.pipelines.LiftOver(varList)\n",
    "varLift.getLiftOver()"
   ]
  },
  {
   "cell_type": "code",
   "execution_count": null,
   "metadata": {},
   "outputs": [],
   "source": [
    "varLift.getLiftOver().values"
   ]
  },
  {
   "cell_type": "code",
   "execution_count": null,
   "metadata": {},
   "outputs": [],
   "source": [
    "print(lls)"
   ]
  },
  {
   "cell_type": "code",
   "execution_count": null,
   "metadata": {},
   "outputs": [],
   "source": [
    "\n",
    "\n",
    "\n"
   ]
  },
  {
   "cell_type": "code",
   "execution_count": null,
   "metadata": {},
   "outputs": [],
   "source": []
  },
  {
   "cell_type": "code",
   "execution_count": null,
   "metadata": {},
   "outputs": [],
   "source": []
  },
  {
   "cell_type": "code",
   "execution_count": null,
   "metadata": {},
   "outputs": [],
   "source": []
  },
  {
   "cell_type": "code",
   "execution_count": null,
   "metadata": {},
   "outputs": [],
   "source": [
    "import biu as biu\n",
    "import matplotlib.pylab as plt\n",
    "import seaborn as sns\n",
    "import numpy as np\n",
    "import pandas as pd\n",
    "\n",
    "gnomad = biu.db.Gnomad(localCopy = { \"vcf\" : \"/exports/molepi/tgehrmann/GAVIN-reimp/gnomAD/gnomad.vcf.bgz\",\n",
    "                                     \"vcf_tbi\" : \"/exports/molepi/tgehrmann/GAVIN-reimp/gnomAD/gnomad.vcf.bgz.tbi\"})\n",
    "\n",
    "filters = [ \"AMBIGUOUS\",\"VQLOW\",\"NVLOC\",\"CALLRATE\",\"MULTI\",\"RECMULTI\"]\n",
    "types = [ \"snp\" ]\n",
    "\n",
    "print(gnomad.vcf)\n",
    "\n",
    "gnomad.query('Y', 2655002, 2655003)\n",
    "gnomad.query('Y', 2655024, 2655025)\n",
    "v = gnomad.query('Y', 2709618, 2709619)\n",
    "#gnomad.summary(v, [1])\n",
    "\n",
    "print(gnomad.vcf)\n",
    "\n",
    "gnomad.query('1', 2655002, 2709619, extract=\"summary\")\n"
   ]
  },
  {
   "cell_type": "code",
   "execution_count": null,
   "metadata": {},
   "outputs": [],
   "source": [
    "print(gnomad.vcf)"
   ]
  },
  {
   "cell_type": "code",
   "execution_count": null,
   "metadata": {},
   "outputs": [],
   "source": [
    "print(list(r.query(20, 14369, 14371))[0])"
   ]
  },
  {
   "cell_type": "code",
   "execution_count": null,
   "metadata": {},
   "outputs": [],
   "source": [
    "import vcf\n",
    "r = vcf.Reader(open('docs/example_files/example.vcf','r'))\n",
    "for rec in r:\n",
    "    print(rec)"
   ]
  },
  {
   "cell_type": "code",
   "execution_count": null,
   "metadata": {},
   "outputs": [],
   "source": [
    "r.samples"
   ]
  },
  {
   "cell_type": "code",
   "execution_count": null,
   "metadata": {},
   "outputs": [],
   "source": [
    "import intervaltree as it\n",
    "t = it.IntervalTree()"
   ]
  },
  {
   "cell_type": "code",
   "execution_count": null,
   "metadata": {},
   "outputs": [],
   "source": [
    "i = it.Interval(0, 1, 'test')"
   ]
  },
  {
   "cell_type": "code",
   "execution_count": null,
   "metadata": {},
   "outputs": [],
   "source": [
    "t[0:1] = 'test'"
   ]
  },
  {
   "cell_type": "code",
   "execution_count": null,
   "metadata": {},
   "outputs": [],
   "source": [
    "t[0]"
   ]
  },
  {
   "cell_type": "code",
   "execution_count": null,
   "metadata": {},
   "outputs": [],
   "source": [
    "class Parent(object):\n",
    "    def __init__(self, a):\n",
    "        self.__a = a\n",
    "    \n",
    "    def printa(self):\n",
    "        print(self.__a)\n",
    "\n",
    "class Child(Parent):\n",
    "    def __init__(self, a):\n",
    "        Parent.__init__(self, a)\n",
    "\n",
    "        \n",
    "c = Child(6)\n",
    "c.printa()"
   ]
  },
  {
   "cell_type": "markdown",
   "metadata": {},
   "source": [
    "# Methylation"
   ]
  },
  {
   "cell_type": "code",
   "execution_count": 11,
   "metadata": {},
   "outputs": [],
   "source": []
  },
  {
   "cell_type": "code",
   "execution_count": 119,
   "metadata": {},
   "outputs": [
    {
     "name": "stderr",
     "output_type": "stream",
     "text": [
      "D: GFF input source is file.\n"
     ]
    }
   ],
   "source": [
    "M = pd.read_csv(\"/home/tgehrmann/methylated_bases.tsv\", delimiter=\"\\t\")\n",
    "M[\"ratio\"] = M[\"numCs\"] / M[\"coverage\"]\n",
    "M[\"#contig\"] = M[\"#contig\"].apply(lambda x: '_'.join(x.split('_')[:2]))\n",
    "M = M[(M[\"ratio\"] >= 0.4) & (M[\"ratio\"] <= 0.6)]\n",
    "\n",
    "G = biu.formats.GFF3(\"/home/tgehrmann/AgabiA15p1.genes.gff3\")\n",
    "\n",
    "differentiable = pd.read_csv(\"/home/tgehrmann/DESEQ_input.tsv\", delimiter=\"\\t\")\n",
    "p1_diff = differentiable[\"genegroup\"].apply(lambda x: x.split(',')[0] + '|gene').values"
   ]
  },
  {
   "cell_type": "code",
   "execution_count": 120,
   "metadata": {},
   "outputs": [
    {
     "name": "stdout",
     "output_type": "stream",
     "text": [
      "scaffold_3 - 6631/66311"
     ]
    }
   ],
   "source": [
    "import intervaltree\n",
    "\n",
    "def makeIndex(gff, genes):\n",
    "    T = { seqid: intervaltree.IntervalTree() for seqid in gff.seqids }\n",
    "    n = len(genes)\n",
    "    for i, gene in enumerate(genes):\n",
    "        e = G.getIDEntry(gene)\n",
    "        if e is None:\n",
    "            continue\n",
    "        print(\"\\r%s - %d/%d\" % (e.seqid, i+1, n), end=\"\")\n",
    "        #Promotors only\n",
    "        T[e.seqid][e.start-1000:e.start] = gene + '_upstream'\n",
    "        T[e.seqid][e.end:e.end+1000] = gene + '_downstream'\n",
    "        #Full gene & up/downstream\n",
    "        #T[e.seqid][e.start-1000:e.end+1000] = gene + '_full'\n",
    "    #efor\n",
    "    return T\n",
    "#edef\n",
    "idx = makeIndex(G, p1_diff)\n",
    "        \n",
    "        "
   ]
  },
  {
   "cell_type": "code",
   "execution_count": 121,
   "metadata": {},
   "outputs": [],
   "source": [
    "methGenes = {}\n",
    "for i, row in M[(M[\"ratio\"] >= 0.4) & (M[\"ratio\"] <= 0.6)].iterrows():\n",
    "    pos = row.start\n",
    "    seqid = row[\"#contig\"]\n",
    "    res = [ r[-1] for r in idx[seqid][pos] ]\n",
    "    for r in res:\n",
    "        if r not in methGenes:\n",
    "            methGenes[r] = []\n",
    "        #fi\n",
    "        methGenes[r].append((seqid, pos))\n",
    "    #efor"
   ]
  },
  {
   "cell_type": "code",
   "execution_count": 122,
   "metadata": {},
   "outputs": [
    {
     "data": {
      "text/plain": [
       "dict_keys(['AgabiA15p1|601|gene_downstream', 'AgabiA15p1|617|gene_upstream', 'AgabiA15p1|616|gene_downstream', 'AgabiA15p1|816|gene_downstream', 'AgabiA15p1|1189|gene_downstream', 'AgabiA15p1|1268|gene_downstream', 'AgabiA15p1|1269|gene_downstream', 'AgabiA15p1|1288|gene_downstream', 'AgabiA15p1|1290|gene_upstream', 'AgabiA15p1|1289|gene_downstream', 'AgabiA15p1|1291|gene_upstream', 'AgabiA15p1|1290|gene_downstream', 'AgabiA15p1|1303|gene_downstream', 'AgabiA15p1|3570|gene_upstream', 'AgabiA15p1|3570|gene_downstream', 'AgabiA15p1|3631|gene_upstream', 'AgabiA15p1|3632|gene_upstream', 'AgabiA15p1|3632|gene_downstream', 'AgabiA15p1|3631|gene_downstream', 'AgabiA15p1|3703|gene_downstream', 'AgabiA15p1|3704|gene_upstream', 'AgabiA15p1|3708|gene_downstream', 'AgabiA15p1|4078|gene_downstream', 'AgabiA15p1|4081|gene_downstream', 'AgabiA15p1|4095|gene_upstream', 'AgabiA15p1|4402|gene_downstream', 'AgabiA15p1|4403|gene_upstream', 'AgabiA15p1|4408|gene_upstream', 'AgabiA15p1|4407|gene_downstream', 'AgabiA15p1|4482|gene_downstream', 'AgabiA15p1|4516|gene_downstream', 'AgabiA15p1|4517|gene_upstream', 'AgabiA15p1|4605|gene_upstream', 'AgabiA15p1|4606|gene_downstream', 'AgabiA15p1|4606|gene_upstream', 'AgabiA15p1|4609|gene_downstream', 'AgabiA15p1|4611|gene_upstream', 'AgabiA15p1|4681|gene_upstream', 'AgabiA15p1|4680|gene_downstream', 'AgabiA15p1|4681|gene_downstream', 'AgabiA15p1|4683|gene_upstream', 'AgabiA15p1|4682|gene_downstream', 'AgabiA15p1|4682|gene_upstream', 'AgabiA15p1|4915|gene_upstream', 'AgabiA15p1|4982|gene_upstream', 'AgabiA15p1|5649|gene_upstream', 'AgabiA15p1|5649|gene_downstream', 'AgabiA15p1|5654|gene_upstream', 'AgabiA15p1|5655|gene_upstream', 'AgabiA15p1|5654|gene_downstream', 'AgabiA15p1|5656|gene_upstream', 'AgabiA15p1|5655|gene_downstream', 'AgabiA15p1|5665|gene_upstream', 'AgabiA15p1|5704|gene_upstream', 'AgabiA15p1|5703|gene_downstream', 'AgabiA15p1|5704|gene_downstream', 'AgabiA15p1|5705|gene_upstream', 'AgabiA15p1|5706|gene_upstream', 'AgabiA15p1|5710|gene_downstream', 'AgabiA15p1|5756|gene_downstream', 'AgabiA15p1|5758|gene_upstream', 'AgabiA15p1|5769|gene_upstream', 'AgabiA15p1|5770|gene_upstream', 'AgabiA15p1|5827|gene_upstream', 'AgabiA15p1|5884|gene_upstream', 'AgabiA15p1|5935|gene_upstream', 'AgabiA15p1|5941|gene_upstream', 'AgabiA15p1|5944|gene_upstream', 'AgabiA15p1|5944|gene_downstream', 'AgabiA15p1|5979|gene_upstream', 'AgabiA15p1|5981|gene_downstream', 'AgabiA15p1|5983|gene_upstream', 'AgabiA15p1|6087|gene_downstream', 'AgabiA15p1|6088|gene_downstream', 'AgabiA15p1|6090|gene_upstream', 'AgabiA15p1|6091|gene_upstream', 'AgabiA15p1|6090|gene_downstream', 'AgabiA15p1|6217|gene_upstream', 'AgabiA15p1|6265|gene_downstream', 'AgabiA15p1|6701|gene_upstream', 'AgabiA15p1|6843|gene_upstream', 'AgabiA15p1|6843|gene_downstream', 'AgabiA15p1|6844|gene_downstream', 'AgabiA15p1|6846|gene_upstream', 'AgabiA15p1|6846|gene_downstream', 'AgabiA15p1|6844|gene_upstream', 'AgabiA15p1|6944|gene_downstream', 'AgabiA15p1|6947|gene_upstream', 'AgabiA15p1|6947|gene_downstream', 'AgabiA15p1|6949|gene_downstream', 'AgabiA15p1|7036|gene_downstream', 'AgabiA15p1|7068|gene_downstream', 'AgabiA15p1|7075|gene_downstream', 'AgabiA15p1|7082|gene_upstream', 'AgabiA15p1|7099|gene_downstream', 'AgabiA15p1|7178|gene_upstream', 'AgabiA15p1|7367|gene_downstream', 'AgabiA15p1|7372|gene_upstream', 'AgabiA15p1|7372|gene_downstream', 'AgabiA15p1|7373|gene_upstream', 'AgabiA15p1|7373|gene_downstream', 'AgabiA15p1|7178|gene_downstream', 'AgabiA15p1|7376|gene_upstream', 'AgabiA15p1|7377|gene_upstream', 'AgabiA15p1|7376|gene_downstream', 'AgabiA15p1|7377|gene_downstream', 'AgabiA15p1|7380|gene_downstream', 'AgabiA15p1|7387|gene_upstream', 'AgabiA15p1|7387|gene_downstream', 'AgabiA15p1|7380|gene_upstream', 'AgabiA15p1|7401|gene_downstream', 'AgabiA15p1|7404|gene_upstream', 'AgabiA15p1|7404|gene_downstream', 'AgabiA15p1|7415|gene_downstream', 'AgabiA15p1|7423|gene_upstream', 'AgabiA15p1|7422|gene_downstream', 'AgabiA15p1|7423|gene_downstream', 'AgabiA15p1|7424|gene_upstream', 'AgabiA15p1|7426|gene_upstream', 'AgabiA15p1|7427|gene_upstream', 'AgabiA15p1|7427|gene_downstream', 'AgabiA15p1|7432|gene_upstream', 'AgabiA15p1|7433|gene_downstream', 'AgabiA15p1|7438|gene_upstream', 'AgabiA15p1|7439|gene_upstream', 'AgabiA15p1|7438|gene_downstream', 'AgabiA15p1|7440|gene_downstream', 'AgabiA15p1|7415|gene_upstream', 'AgabiA15p1|7422|gene_upstream', 'AgabiA15p1|7424|gene_downstream', 'AgabiA15p1|7426|gene_downstream', 'AgabiA15p1|7441|gene_upstream', 'AgabiA15p1|7441|gene_downstream', 'AgabiA15p1|7446|gene_downstream', 'AgabiA15p1|7446|gene_upstream', 'AgabiA15p1|7684|gene_upstream', 'AgabiA15p1|7686|gene_upstream', 'AgabiA15p1|7685|gene_downstream', 'AgabiA15p1|7689|gene_upstream', 'AgabiA15p1|7690|gene_upstream', 'AgabiA15p1|7689|gene_downstream', 'AgabiA15p1|7691|gene_upstream', 'AgabiA15p1|7692|gene_upstream', 'AgabiA15p1|7691|gene_downstream', 'AgabiA15p1|7693|gene_upstream', 'AgabiA15p1|7692|gene_downstream', 'AgabiA15p1|7694|gene_upstream', 'AgabiA15p1|7693|gene_downstream', 'AgabiA15p1|7695|gene_upstream', 'AgabiA15p1|7694|gene_downstream', 'AgabiA15p1|7685|gene_upstream', 'AgabiA15p1|7684|gene_downstream', 'AgabiA15p1|7686|gene_downstream', 'AgabiA15p1|7698|gene_upstream', 'AgabiA15p1|7865|gene_upstream', 'AgabiA15p1|7865|gene_downstream', 'AgabiA15p1|7867|gene_upstream', 'AgabiA15p1|7866|gene_downstream', 'AgabiA15p1|7868|gene_upstream', 'AgabiA15p1|7871|gene_upstream', 'AgabiA15p1|7871|gene_downstream', 'AgabiA15p1|7866|gene_upstream', 'AgabiA15p1|7867|gene_downstream', 'AgabiA15p1|7868|gene_downstream', 'AgabiA15p1|7894|gene_upstream', 'AgabiA15p1|7938|gene_downstream', 'AgabiA15p1|7872|gene_downstream', 'AgabiA15p1|8108|gene_downstream', 'AgabiA15p1|8110|gene_upstream', 'AgabiA15p1|8110|gene_downstream', 'AgabiA15p1|8116|gene_upstream', 'AgabiA15p1|8064|gene_upstream', 'AgabiA15p1|8064|gene_downstream', 'AgabiA15p1|8116|gene_downstream', 'AgabiA15p1|8160|gene_upstream', 'AgabiA15p1|8161|gene_upstream', 'AgabiA15p1|8160|gene_downstream', 'AgabiA15p1|8163|gene_upstream', 'AgabiA15p1|8163|gene_downstream', 'AgabiA15p1|8166|gene_upstream', 'AgabiA15p1|8396|gene_downstream', 'AgabiA15p1|8563|gene_upstream', 'AgabiA15p1|8563|gene_downstream', 'AgabiA15p1|8576|gene_upstream', 'AgabiA15p1|8576|gene_downstream', 'AgabiA15p1|8579|gene_downstream', 'AgabiA15p1|8594|gene_upstream', 'AgabiA15p1|8594|gene_downstream', 'AgabiA15p1|8596|gene_downstream', 'AgabiA15p1|8597|gene_upstream', 'AgabiA15p1|8821|gene_upstream', 'AgabiA15p1|8821|gene_downstream', 'AgabiA15p1|8888|gene_downstream', 'AgabiA15p1|8890|gene_upstream', 'AgabiA15p1|8963|gene_upstream', 'AgabiA15p1|8981|gene_downstream', 'AgabiA15p1|8985|gene_upstream', 'AgabiA15p1|8985|gene_downstream', 'AgabiA15p1|8986|gene_upstream', 'AgabiA15p1|9013|gene_downstream', 'AgabiA15p1|9059|gene_upstream', 'AgabiA15p1|9193|gene_upstream', 'AgabiA15p1|9238|gene_upstream', 'AgabiA15p1|9237|gene_downstream', 'AgabiA15p1|9236|gene_downstream', 'AgabiA15p1|9608|gene_downstream', 'AgabiA15p1|9609|gene_upstream', 'AgabiA15p1|9609|gene_downstream', 'AgabiA15p1|9657|gene_downstream', 'AgabiA15p1|9687|gene_upstream', 'AgabiA15p1|9699|gene_downstream', 'AgabiA15p1|9711|gene_upstream', 'AgabiA15p1|9759|gene_downstream', 'AgabiA15p1|9762|gene_upstream', 'AgabiA15p1|9762|gene_downstream', 'AgabiA15p1|9768|gene_upstream', 'AgabiA15p1|9768|gene_downstream', 'AgabiA15p1|9776|gene_upstream', 'AgabiA15p1|9779|gene_downstream', 'AgabiA15p1|9800|gene_upstream', 'AgabiA15p1|9800|gene_downstream', 'AgabiA15p1|9808|gene_downstream', 'AgabiA15p1|9814|gene_upstream', 'AgabiA15p1|9814|gene_downstream', 'AgabiA15p1|9802|gene_upstream', 'AgabiA15p1|9804|gene_upstream', 'AgabiA15p1|9820|gene_upstream', 'AgabiA15p1|9832|gene_downstream', 'AgabiA15p1|9836|gene_upstream', 'AgabiA15p1|9836|gene_downstream', 'AgabiA15p1|9860|gene_upstream', 'AgabiA15p1|9860|gene_downstream', 'AgabiA15p1|9908|gene_upstream', 'AgabiA15p1|10057|gene_upstream', 'AgabiA15p1|10148|gene_upstream', 'AgabiA15p1|10304|gene_upstream', 'AgabiA15p1|10303|gene_downstream', 'AgabiA15p1|10304|gene_downstream', 'AgabiA15p1|10351|gene_upstream', 'AgabiA15p1|1437|gene_downstream', 'AgabiA15p1|1438|gene_upstream', 'AgabiA15p1|1438|gene_downstream', 'AgabiA15p1|1439|gene_upstream', 'AgabiA15p1|1475|gene_downstream', 'AgabiA15p1|1477|gene_downstream', 'AgabiA15p1|1480|gene_downstream', 'AgabiA15p1|1483|gene_upstream', 'AgabiA15p1|1483|gene_downstream', 'AgabiA15p1|1484|gene_upstream', 'AgabiA15p1|1484|gene_downstream', 'AgabiA15p1|1485|gene_upstream', 'AgabiA15p1|1495|gene_upstream', 'AgabiA15p1|1494|gene_downstream', 'AgabiA15p1|1496|gene_upstream', 'AgabiA15p1|1498|gene_upstream', 'AgabiA15p1|1498|gene_downstream', 'AgabiA15p1|1499|gene_upstream', 'AgabiA15p1|1500|gene_upstream', 'AgabiA15p1|1499|gene_downstream', 'AgabiA15p1|1503|gene_downstream', 'AgabiA15p1|1505|gene_upstream', 'AgabiA15p1|1504|gene_downstream', 'AgabiA15p1|1512|gene_downstream', 'AgabiA15p1|1513|gene_upstream', 'AgabiA15p1|1515|gene_upstream', 'AgabiA15p1|1513|gene_downstream', 'AgabiA15p1|1516|gene_upstream', 'AgabiA15p1|1515|gene_downstream', 'AgabiA15p1|1516|gene_downstream', 'AgabiA15p1|1517|gene_upstream', 'AgabiA15p1|1520|gene_downstream', 'AgabiA15p1|1521|gene_downstream', 'AgabiA15p1|1522|gene_upstream', 'AgabiA15p1|1523|gene_upstream', 'AgabiA15p1|1522|gene_downstream', 'AgabiA15p1|1524|gene_upstream', 'AgabiA15p1|1652|gene_upstream', 'AgabiA15p1|1653|gene_upstream', 'AgabiA15p1|1654|gene_upstream', 'AgabiA15p1|1653|gene_downstream', 'AgabiA15p1|1655|gene_upstream', 'AgabiA15p1|1657|gene_upstream', 'AgabiA15p1|1657|gene_downstream', 'AgabiA15p1|1658|gene_downstream', 'AgabiA15p1|1659|gene_upstream', 'AgabiA15p1|1659|gene_downstream', 'AgabiA15p1|1661|gene_upstream', 'AgabiA15p1|1660|gene_downstream', 'AgabiA15p1|1662|gene_upstream', 'AgabiA15p1|1656|gene_upstream', 'AgabiA15p1|1654|gene_downstream', 'AgabiA15p1|1660|gene_upstream', 'AgabiA15p1|1664|gene_upstream', 'AgabiA15p1|1662|gene_downstream', 'AgabiA15p1|1663|gene_downstream', 'AgabiA15p1|1665|gene_downstream', 'AgabiA15p1|1666|gene_upstream', 'AgabiA15p1|1667|gene_upstream', 'AgabiA15p1|1667|gene_downstream', 'AgabiA15p1|1668|gene_upstream', 'AgabiA15p1|1666|gene_downstream', 'AgabiA15p1|1668|gene_downstream', 'AgabiA15p1|1674|gene_upstream', 'AgabiA15p1|1675|gene_upstream', 'AgabiA15p1|1674|gene_downstream', 'AgabiA15p1|1676|gene_upstream', 'AgabiA15p1|1675|gene_downstream', 'AgabiA15p1|1677|gene_upstream', 'AgabiA15p1|1676|gene_downstream', 'AgabiA15p1|1678|gene_upstream', 'AgabiA15p1|1677|gene_downstream', 'AgabiA15p1|1679|gene_upstream', 'AgabiA15p1|1678|gene_downstream', 'AgabiA15p1|1679|gene_downstream', 'AgabiA15p1|1680|gene_upstream', 'AgabiA15p1|1680|gene_downstream', 'AgabiA15p1|1681|gene_downstream', 'AgabiA15p1|1688|gene_upstream', 'AgabiA15p1|1688|gene_downstream', 'AgabiA15p1|1691|gene_upstream', 'AgabiA15p1|1790|gene_upstream', 'AgabiA15p1|1790|gene_downstream', 'AgabiA15p1|1794|gene_upstream', 'AgabiA15p1|1802|gene_downstream', 'AgabiA15p1|1805|gene_upstream', 'AgabiA15p1|1806|gene_upstream', 'AgabiA15p1|1806|gene_downstream', 'AgabiA15p1|1807|gene_upstream', 'AgabiA15p1|1807|gene_downstream', 'AgabiA15p1|1809|gene_upstream', 'AgabiA15p1|1808|gene_downstream', 'AgabiA15p1|1845|gene_downstream', 'AgabiA15p1|1849|gene_upstream', 'AgabiA15p1|1896|gene_downstream', 'AgabiA15p1|1897|gene_upstream', 'AgabiA15p1|1898|gene_upstream', 'AgabiA15p1|1897|gene_downstream', 'AgabiA15p1|1898|gene_downstream', 'AgabiA15p1|1899|gene_upstream', 'AgabiA15p1|1899|gene_downstream', 'AgabiA15p1|1901|gene_upstream', 'AgabiA15p1|1902|gene_upstream', 'AgabiA15p1|1901|gene_downstream', 'AgabiA15p1|1802|gene_upstream', 'AgabiA15p1|1808|gene_upstream', 'AgabiA15p1|1810|gene_upstream', 'AgabiA15p1|1896|gene_upstream', 'AgabiA15p1|1904|gene_downstream', 'AgabiA15p1|1943|gene_downstream', 'AgabiA15p1|1945|gene_downstream', 'AgabiA15p1|1940|gene_downstream', 'AgabiA15p1|1942|gene_downstream', 'AgabiA15p1|1943|gene_upstream', 'AgabiA15p1|1944|gene_upstream', 'AgabiA15p1|1984|gene_downstream', 'AgabiA15p1|1984|gene_upstream', 'AgabiA15p1|2093|gene_upstream', 'AgabiA15p1|2094|gene_upstream', 'AgabiA15p1|2093|gene_downstream', 'AgabiA15p1|2094|gene_downstream', 'AgabiA15p1|2134|gene_downstream', 'AgabiA15p1|2135|gene_upstream', 'AgabiA15p1|2091|gene_upstream', 'AgabiA15p1|2090|gene_downstream', 'AgabiA15p1|2177|gene_downstream', 'AgabiA15p1|2179|gene_upstream', 'AgabiA15p1|2181|gene_downstream', 'AgabiA15p1|2182|gene_downstream', 'AgabiA15p1|2183|gene_upstream', 'AgabiA15p1|2183|gene_downstream', 'AgabiA15p1|2214|gene_upstream', 'AgabiA15p1|2213|gene_downstream', 'AgabiA15p1|2218|gene_upstream', 'AgabiA15p1|2217|gene_downstream', 'AgabiA15p1|2221|gene_upstream', 'AgabiA15p1|2308|gene_upstream', 'AgabiA15p1|2350|gene_upstream', 'AgabiA15p1|2350|gene_downstream', 'AgabiA15p1|2368|gene_downstream', 'AgabiA15p1|2371|gene_upstream', 'AgabiA15p1|2371|gene_downstream', 'AgabiA15p1|2368|gene_upstream', 'AgabiA15p1|2510|gene_downstream', 'AgabiA15p1|2515|gene_upstream', 'AgabiA15p1|2518|gene_upstream', 'AgabiA15p1|2542|gene_upstream', 'AgabiA15p1|2542|gene_downstream', 'AgabiA15p1|2544|gene_upstream', 'AgabiA15p1|2544|gene_downstream', 'AgabiA15p1|2546|gene_upstream', 'AgabiA15p1|2547|gene_downstream', 'AgabiA15p1|2515|gene_downstream', 'AgabiA15p1|2516|gene_upstream', 'AgabiA15p1|10354|gene_upstream', 'AgabiA15p1|10403|gene_downstream', 'AgabiA15p1|10406|gene_upstream', 'AgabiA15p1|10406|gene_downstream', 'AgabiA15p1|10407|gene_upstream', 'AgabiA15p1|10436|gene_downstream', 'AgabiA15p1|10438|gene_upstream', 'AgabiA15p1|10739|gene_downstream', 'AgabiA15p1|10741|gene_upstream', 'AgabiA15p1|10772|gene_upstream', 'AgabiA15p1|10775|gene_upstream', 'AgabiA15p1|10775|gene_downstream', 'AgabiA15p1|10778|gene_upstream', 'AgabiA15p1|10778|gene_downstream', 'AgabiA15p1|10772|gene_downstream', 'AgabiA15p1|10788|gene_downstream', 'AgabiA15p1|10789|gene_upstream', 'AgabiA15p1|10791|gene_upstream', 'AgabiA15p1|10790|gene_downstream', 'AgabiA15p1|10791|gene_downstream', 'AgabiA15p1|10795|gene_upstream', 'AgabiA15p1|10795|gene_downstream', 'AgabiA15p1|10796|gene_upstream', 'AgabiA15p1|10796|gene_downstream', 'AgabiA15p1|10801|gene_upstream', 'AgabiA15p1|10788|gene_upstream', 'AgabiA15p1|10801|gene_downstream', 'AgabiA15p1|10803|gene_upstream', 'AgabiA15p1|10803|gene_downstream', 'AgabiA15p1|10807|gene_upstream', 'AgabiA15p1|10807|gene_downstream', 'AgabiA15p1|10869|gene_upstream', 'AgabiA15p1|10870|gene_upstream', 'AgabiA15p1|10869|gene_downstream', 'AgabiA15p1|10871|gene_upstream', 'AgabiA15p1|10871|gene_downstream', 'AgabiA15p1|10872|gene_upstream', 'AgabiA15p1|10872|gene_downstream', 'AgabiA15p1|10873|gene_upstream', 'AgabiA15p1|10874|gene_upstream', 'AgabiA15p1|10875|gene_upstream', 'AgabiA15p1|10874|gene_downstream', 'AgabiA15p1|10876|gene_upstream', 'AgabiA15p1|10875|gene_downstream', 'AgabiA15p1|10876|gene_downstream', 'AgabiA15p1|10877|gene_upstream', 'AgabiA15p1|10880|gene_upstream', 'AgabiA15p1|10880|gene_downstream', 'AgabiA15p1|10914|gene_downstream', 'AgabiA15p1|10915|gene_upstream', 'AgabiA15p1|10917|gene_downstream', 'AgabiA15p1|10921|gene_upstream', 'AgabiA15p1|10920|gene_downstream', 'AgabiA15p1|10878|gene_upstream', 'AgabiA15p1|10877|gene_downstream', 'AgabiA15p1|10947|gene_upstream', 'AgabiA15p1|2616|gene_upstream', 'AgabiA15p1|2615|gene_downstream', 'AgabiA15p1|2792|gene_downstream', 'AgabiA15p1|2737|gene_upstream', 'AgabiA15p1|2736|gene_downstream', 'AgabiA15p1|2828|gene_upstream', 'AgabiA15p1|2834|gene_downstream', 'AgabiA15p1|2889|gene_downstream', 'AgabiA15p1|2869|gene_upstream', 'AgabiA15p1|2973|gene_downstream', 'AgabiA15p1|2972|gene_downstream', 'AgabiA15p1|2973|gene_upstream', 'AgabiA15p1|3089|gene_downstream', 'AgabiA15p1|3104|gene_upstream', 'AgabiA15p1|3138|gene_downstream', 'AgabiA15p1|3359|gene_downstream', 'AgabiA15p1|3430|gene_downstream'])"
      ]
     },
     "execution_count": 122,
     "metadata": {},
     "output_type": "execute_result"
    }
   ],
   "source": [
    "methGenes.keys()"
   ]
  },
  {
   "cell_type": "code",
   "execution_count": 123,
   "metadata": {},
   "outputs": [
    {
     "name": "stdout",
     "output_type": "stream",
     "text": [
      "334\n"
     ]
    }
   ],
   "source": [
    "print(len(set([ mg.split('_')[0] for mg in methGenes.keys()])))\n",
    "diffmeth = set([ mg.split('_')[0] for mg in methGenes.keys()])\n",
    "diffmeth = set([ '|'.join(dmg.split('|')[:-1]) for dmg in diffmeth if dmg != \"\" ])\n",
    "\n",
    "p1_diff = set([ '|'.join(dmg.split('|')[:-1]) for dmg in p1_diff ])"
   ]
  },
  {
   "cell_type": "code",
   "execution_count": 124,
   "metadata": {},
   "outputs": [],
   "source": [
    "COMPOST_DIFFREG = pd.read_csv(\"/home/tgehrmann/diff_regulated_compost.tsv\", delimiter=\"\\t\")\n",
    "COMPOST_DIFFREG[\"id\"] = COMPOST_DIFFREG[\"id\"].apply(lambda x: x.split(',')[0])\n",
    "COMPOST_DIFFREG = set(COMPOST_DIFFREG[COMPOST_DIFFREG.padj < 0.05].id.unique())\n",
    "\n",
    "JORDI_DIFFREG = pd.read_csv(\"/home/tgehrmann/diff_regulated.tsv\", delimiter=\"\\t\")\n",
    "JORDI_DIFFREG[\"id\"] = JORDI_DIFFREG[\"id\"].apply(lambda x: x.split(',')[0])\n",
    "JORDI_DIFFREG = set(JORDI_DIFFREG[JORDI_DIFFREG.padj < 0.05].id.unique())\n",
    "\n",
    "DIFFREG = JORDI_DIFFREG | COMPOST_DIFFREG"
   ]
  },
  {
   "cell_type": "code",
   "execution_count": 125,
   "metadata": {},
   "outputs": [
    {
     "name": "stdout",
     "output_type": "stream",
     "text": [
      "all (0.0028797005331946484, ([34, 377], [300, 5920]))\n",
      "compost (0.08688076471811172, ([8, 74], [326, 6223]))\n",
      "jordi (0.0006154488818513568, ([33, 335], [301, 5962]))\n",
      "overlap (0.0008666163397255266, ([7, 32], [327, 6265]))\n",
      "compost_unique (0.6413442183475865, ([1, 42], [333, 6255]))\n",
      "jordi_unique (0.020960381867411244, ([26, 303], [308, 5994]))\n"
     ]
    }
   ],
   "source": [
    "\n",
    "from scipy.stats import chi2_contingency\n",
    "sigdiffreg_all      = DIFFREG\n",
    "sigdiffreg_compost  = COMPOST_DIFFREG\n",
    "sigdiffreg_jordi    = JORDI_DIFFREG\n",
    "sigdiffreg_overlap  = sigdiffreg_compost & sigdiffreg_jordi\n",
    "sifdiffreg_com_uniq = sigdiffreg_compost - sigdiffreg_overlap\n",
    "sigdiffreg_jor_uniq = sigdiffreg_jordi - sigdiffreg_overlap\n",
    "\n",
    "def enrich_methylation(genes, sigdiffreg, MGENES):\n",
    "   \n",
    "    totalgenes   = set(genes)\n",
    "    totaldiff    = set(sigdiffreg);\n",
    "    totaldiff_no = totalgenes - totaldiff\n",
    "    totalmeth    = set(MGENES);\n",
    "    totalmeth_no = totalgenes - totalmeth\n",
    "\n",
    "    diff_meth     = totaldiff & totalmeth\n",
    "    diff_nometh   = totaldiff & totalmeth_no\n",
    "    nodiff_meth   = totaldiff_no & totalmeth\n",
    "    nodiff_nometh = totaldiff_no & totalmeth_no\n",
    "    \n",
    "    abcd = [len(diff_meth), len(diff_nometh)], [len(nodiff_meth), len(nodiff_nometh)]\n",
    "\n",
    "    #print(abcd)\n",
    "    res = chi2_contingency(abcd)[1]\n",
    "    #print(res)\n",
    "    \n",
    "    return res, abcd\n",
    "#edef\n",
    "\n",
    "diffsets = [ (\"all\", sigdiffreg_all), (\"compost\", sigdiffreg_compost), \n",
    "            (\"jordi\", sigdiffreg_jordi), (\"overlap\", sigdiffreg_overlap), \n",
    "            (\"compost_unique\", sifdiffreg_com_uniq), (\"jordi_unique\", sigdiffreg_jor_uniq)]\n",
    "\n",
    "for (title, diffset) in diffsets:\n",
    "    print(title, enrich_methylation(p1_diff, diffset, diffmeth))\n",
    "#[ [x[0][1]] + x[1] + x[2] for x in enrichments_mgenes]"
   ]
  },
  {
   "cell_type": "code",
   "execution_count": 126,
   "metadata": {},
   "outputs": [
    {
     "data": {
      "text/plain": [
       "6631"
      ]
     },
     "execution_count": 126,
     "metadata": {},
     "output_type": "execute_result"
    }
   ],
   "source": [
    "len(p1_diff)"
   ]
  },
  {
   "cell_type": "code",
   "execution_count": 127,
   "metadata": {},
   "outputs": [
    {
     "data": {
      "text/plain": [
       "{'AgabiA15p1|5531',\n",
       " 'AgabiA15p1|2205',\n",
       " 'AgabiA15p1|9593',\n",
       " 'AgabiA15p1|2631',\n",
       " 'AgabiA15p1|9563',\n",
       " 'AgabiA15p1|510',\n",
       " 'AgabiA15p1|3985',\n",
       " 'AgabiA15p1|5912',\n",
       " 'AgabiA15p1|4480',\n",
       " 'AgabiA15p1|7144',\n",
       " 'AgabiA15p1|9273',\n",
       " 'AgabiA15p1|4027',\n",
       " 'AgabiA15p1|5613',\n",
       " 'AgabiA15p1|9531',\n",
       " 'AgabiA15p1|10053',\n",
       " 'AgabiA15p1|2695',\n",
       " 'AgabiA15p1|9333',\n",
       " 'AgabiA15p1|3153',\n",
       " 'AgabiA15p1|694',\n",
       " 'AgabiA15p1|8421',\n",
       " 'AgabiA15p1|6581',\n",
       " 'AgabiA15p1|4769',\n",
       " 'AgabiA15p1|10533',\n",
       " 'AgabiA15p1|6363',\n",
       " 'AgabiA15p1|3995',\n",
       " 'AgabiA15p1|10634',\n",
       " 'AgabiA15p1|10240',\n",
       " 'AgabiA15p1|8522',\n",
       " 'AgabiA15p1|10381',\n",
       " 'AgabiA15p1|9400',\n",
       " 'AgabiA15p1|4351',\n",
       " 'AgabiA15p1|3270',\n",
       " 'AgabiA15p1|4356',\n",
       " 'AgabiA15p1|1059',\n",
       " 'AgabiA15p1|8349',\n",
       " 'AgabiA15p1|9945',\n",
       " 'AgabiA15p1|5866',\n",
       " 'AgabiA15p1|3749',\n",
       " 'AgabiA15p1|9968',\n",
       " 'AgabiA15p1|4138',\n",
       " 'AgabiA15p1|723',\n",
       " 'AgabiA15p1|6241',\n",
       " 'AgabiA15p1|630',\n",
       " 'AgabiA15p1|9124',\n",
       " 'AgabiA15p1|131',\n",
       " 'AgabiA15p1|2097',\n",
       " 'AgabiA15p1|10854',\n",
       " 'AgabiA15p1|4117',\n",
       " 'AgabiA15p1|4251',\n",
       " 'AgabiA15p1|1790',\n",
       " 'AgabiA15p1|9696',\n",
       " 'AgabiA15p1|10476',\n",
       " 'AgabiA15p1|7207',\n",
       " 'AgabiA15p1|4456',\n",
       " 'AgabiA15p1|3839',\n",
       " 'AgabiA15p1|3155',\n",
       " 'AgabiA15p1|10513',\n",
       " 'AgabiA15p1|1636',\n",
       " 'AgabiA15p1|2230',\n",
       " 'AgabiA15p1|6467',\n",
       " 'AgabiA15p1|6644',\n",
       " 'AgabiA15p1|518',\n",
       " 'AgabiA15p1|8273',\n",
       " 'AgabiA15p1|10244',\n",
       " 'AgabiA15p1|3315',\n",
       " 'AgabiA15p1|1335',\n",
       " 'AgabiA15p1|4759',\n",
       " 'AgabiA15p1|7387',\n",
       " 'AgabiA15p1|196',\n",
       " 'AgabiA15p1|10724',\n",
       " 'AgabiA15p1|9031',\n",
       " 'AgabiA15p1|10348',\n",
       " 'AgabiA15p1|9568',\n",
       " 'AgabiA15p1|10209',\n",
       " 'AgabiA15p1|5511',\n",
       " 'AgabiA15p1|9367',\n",
       " 'AgabiA15p1|1414',\n",
       " 'AgabiA15p1|9045',\n",
       " 'AgabiA15p1|5682',\n",
       " 'AgabiA15p1|6784',\n",
       " 'AgabiA15p1|8431',\n",
       " 'AgabiA15p1|5855',\n",
       " 'AgabiA15p1|10213',\n",
       " 'AgabiA15p1|4032',\n",
       " 'AgabiA15p1|6417',\n",
       " 'AgabiA15p1|821',\n",
       " 'AgabiA15p1|3774',\n",
       " 'AgabiA15p1|1668',\n",
       " 'AgabiA15p1|8959',\n",
       " 'AgabiA15p1|8427',\n",
       " 'AgabiA15p1|4463',\n",
       " 'AgabiA15p1|6126',\n",
       " 'AgabiA15p1|9225',\n",
       " 'AgabiA15p1|5744',\n",
       " 'AgabiA15p1|1298',\n",
       " 'AgabiA15p1|6680',\n",
       " 'AgabiA15p1|6133',\n",
       " 'AgabiA15p1|8163',\n",
       " 'AgabiA15p1|7652',\n",
       " 'AgabiA15p1|785',\n",
       " 'AgabiA15p1|1333',\n",
       " 'AgabiA15p1|2108',\n",
       " 'AgabiA15p1|9882',\n",
       " 'AgabiA15p1|4471',\n",
       " 'AgabiA15p1|9814',\n",
       " 'AgabiA15p1|6273',\n",
       " 'AgabiA15p1|5886',\n",
       " 'AgabiA15p1|5946',\n",
       " 'AgabiA15p1|1655',\n",
       " 'AgabiA15p1|5657',\n",
       " 'AgabiA15p1|258',\n",
       " 'AgabiA15p1|5764',\n",
       " 'AgabiA15p1|634',\n",
       " 'AgabiA15p1|9606',\n",
       " 'AgabiA15p1|4447',\n",
       " 'AgabiA15p1|9479',\n",
       " 'AgabiA15p1|4199',\n",
       " 'AgabiA15p1|4552',\n",
       " 'AgabiA15p1|4013',\n",
       " 'AgabiA15p1|5958',\n",
       " 'AgabiA15p1|3287',\n",
       " 'AgabiA15p1|309',\n",
       " 'AgabiA15p1|6312',\n",
       " 'AgabiA15p1|1438',\n",
       " 'AgabiA15p1|4526',\n",
       " 'AgabiA15p1|8945',\n",
       " 'AgabiA15p1|2200',\n",
       " 'AgabiA15p1|1156',\n",
       " 'AgabiA15p1|6949',\n",
       " 'AgabiA15p1|7198',\n",
       " 'AgabiA15p1|4262',\n",
       " 'AgabiA15p1|3244',\n",
       " 'AgabiA15p1|2702',\n",
       " 'AgabiA15p1|2057',\n",
       " 'AgabiA15p1|6146',\n",
       " 'AgabiA15p1|1442',\n",
       " 'AgabiA15p1|965',\n",
       " 'AgabiA15p1|7243',\n",
       " 'AgabiA15p1|4252',\n",
       " 'AgabiA15p1|7107',\n",
       " 'AgabiA15p1|6130',\n",
       " 'AgabiA15p1|3697',\n",
       " 'AgabiA15p1|6001',\n",
       " 'AgabiA15p1|7529',\n",
       " 'AgabiA15p1|648',\n",
       " 'AgabiA15p1|2947',\n",
       " 'AgabiA15p1|3448',\n",
       " 'AgabiA15p1|8900',\n",
       " 'AgabiA15p1|7961',\n",
       " 'AgabiA15p1|6325',\n",
       " 'AgabiA15p1|6301',\n",
       " 'AgabiA15p1|3745',\n",
       " 'AgabiA15p1|2534',\n",
       " 'AgabiA15p1|7219',\n",
       " 'AgabiA15p1|8437',\n",
       " 'AgabiA15p1|1334',\n",
       " 'AgabiA15p1|604',\n",
       " 'AgabiA15p1|5829',\n",
       " 'AgabiA15p1|8511',\n",
       " 'AgabiA15p1|4169',\n",
       " 'AgabiA15p1|63',\n",
       " 'AgabiA15p1|3807',\n",
       " 'AgabiA15p1|9195',\n",
       " 'AgabiA15p1|3984',\n",
       " 'AgabiA15p1|9176',\n",
       " 'AgabiA15p1|3115',\n",
       " 'AgabiA15p1|4499',\n",
       " 'AgabiA15p1|5634',\n",
       " 'AgabiA15p1|3825',\n",
       " 'AgabiA15p1|9392',\n",
       " 'AgabiA15p1|6070',\n",
       " 'AgabiA15p1|4393',\n",
       " 'AgabiA15p1|1513',\n",
       " 'AgabiA15p1|4336',\n",
       " 'AgabiA15p1|8501',\n",
       " 'AgabiA15p1|4963',\n",
       " 'AgabiA15p1|7015',\n",
       " 'AgabiA15p1|8234',\n",
       " 'AgabiA15p1|2759',\n",
       " 'AgabiA15p1|4149',\n",
       " 'AgabiA15p1|2929',\n",
       " 'AgabiA15p1|5185',\n",
       " 'AgabiA15p1|1647',\n",
       " 'AgabiA15p1|6744',\n",
       " 'AgabiA15p1|3549',\n",
       " 'AgabiA15p1|7975',\n",
       " 'AgabiA15p1|3225',\n",
       " 'AgabiA15p1|3899',\n",
       " 'AgabiA15p1|5659',\n",
       " 'AgabiA15p1|6678',\n",
       " 'AgabiA15p1|9241',\n",
       " 'AgabiA15p1|9218',\n",
       " 'AgabiA15p1|4438',\n",
       " 'AgabiA15p1|3964',\n",
       " 'AgabiA15p1|2228',\n",
       " 'AgabiA15p1|417',\n",
       " 'AgabiA15p1|15',\n",
       " 'AgabiA15p1|2223',\n",
       " 'AgabiA15p1|3260',\n",
       " 'AgabiA15p1|26',\n",
       " 'AgabiA15p1|8334',\n",
       " 'AgabiA15p1|3280',\n",
       " 'AgabiA15p1|5668',\n",
       " 'AgabiA15p1|8064',\n",
       " 'AgabiA15p1|1461',\n",
       " 'AgabiA15p1|5533',\n",
       " 'AgabiA15p1|10843',\n",
       " 'AgabiA15p1|8493',\n",
       " 'AgabiA15p1|8446',\n",
       " 'AgabiA15p1|1436',\n",
       " 'AgabiA15p1|9229',\n",
       " 'AgabiA15p1|499',\n",
       " 'AgabiA15p1|4419',\n",
       " 'AgabiA15p1|2834',\n",
       " 'AgabiA15p1|3744',\n",
       " 'AgabiA15p1|6211',\n",
       " 'AgabiA15p1|1919',\n",
       " 'AgabiA15p1|8523',\n",
       " 'AgabiA15p1|7464',\n",
       " 'AgabiA15p1|6540',\n",
       " 'AgabiA15p1|3816',\n",
       " 'AgabiA15p1|2380',\n",
       " 'AgabiA15p1|10851',\n",
       " 'AgabiA15p1|5391',\n",
       " 'AgabiA15p1|4804',\n",
       " 'AgabiA15p1|4070',\n",
       " 'AgabiA15p1|1637',\n",
       " 'AgabiA15p1|515',\n",
       " 'AgabiA15p1|4306',\n",
       " 'AgabiA15p1|5935',\n",
       " 'AgabiA15p1|1378',\n",
       " 'AgabiA15p1|4054',\n",
       " 'AgabiA15p1|791',\n",
       " 'AgabiA15p1|8161',\n",
       " 'AgabiA15p1|4681',\n",
       " 'AgabiA15p1|824',\n",
       " 'AgabiA15p1|5967',\n",
       " 'AgabiA15p1|6594',\n",
       " 'AgabiA15p1|3947',\n",
       " 'AgabiA15p1|7143',\n",
       " 'AgabiA15p1|3310',\n",
       " 'AgabiA15p1|9113',\n",
       " 'AgabiA15p1|5624',\n",
       " 'AgabiA15p1|3725',\n",
       " 'AgabiA15p1|3563',\n",
       " 'AgabiA15p1|476',\n",
       " 'AgabiA15p1|1397',\n",
       " 'AgabiA15p1|9151',\n",
       " 'AgabiA15p1|9487',\n",
       " 'AgabiA15p1|10882',\n",
       " 'AgabiA15p1|3679',\n",
       " 'AgabiA15p1|9248',\n",
       " 'AgabiA15p1|145',\n",
       " 'AgabiA15p1|8332',\n",
       " 'AgabiA15p1|9579',\n",
       " 'AgabiA15p1|8244',\n",
       " 'AgabiA15p1|2734',\n",
       " 'AgabiA15p1|6230',\n",
       " 'AgabiA15p1|3441',\n",
       " 'AgabiA15p1|10967',\n",
       " 'AgabiA15p1|7224',\n",
       " 'AgabiA15p1|8259',\n",
       " 'AgabiA15p1|9967',\n",
       " 'AgabiA15p1|590',\n",
       " 'AgabiA15p1|10227',\n",
       " 'AgabiA15p1|485',\n",
       " 'AgabiA15p1|3313',\n",
       " 'AgabiA15p1|10236',\n",
       " 'AgabiA15p1|3307',\n",
       " 'AgabiA15p1|10426',\n",
       " 'AgabiA15p1|5810',\n",
       " 'AgabiA15p1|1229',\n",
       " 'AgabiA15p1|9394',\n",
       " 'AgabiA15p1|6179',\n",
       " 'AgabiA15p1|4664',\n",
       " 'AgabiA15p1|460',\n",
       " 'AgabiA15p1|7439',\n",
       " 'AgabiA15p1|3841',\n",
       " 'AgabiA15p1|7193',\n",
       " 'AgabiA15p1|7128',\n",
       " 'AgabiA15p1|2898',\n",
       " 'AgabiA15p1|2636',\n",
       " 'AgabiA15p1|4453',\n",
       " 'AgabiA15p1|606',\n",
       " 'AgabiA15p1|3475',\n",
       " 'AgabiA15p1|1290',\n",
       " 'AgabiA15p1|6937',\n",
       " 'AgabiA15p1|6765',\n",
       " 'AgabiA15p1|7237',\n",
       " 'AgabiA15p1|6557',\n",
       " 'AgabiA15p1|2141',\n",
       " 'AgabiA15p1|1326',\n",
       " 'AgabiA15p1|5509',\n",
       " 'AgabiA15p1|8328',\n",
       " 'AgabiA15p1|2800',\n",
       " 'AgabiA15p1|6715',\n",
       " 'AgabiA15p1|1772',\n",
       " 'AgabiA15p1|8290',\n",
       " 'AgabiA15p1|6332',\n",
       " 'AgabiA15p1|2986',\n",
       " 'AgabiA15p1|4410',\n",
       " 'AgabiA15p1|1945',\n",
       " 'AgabiA15p1|520',\n",
       " 'AgabiA15p1|2637',\n",
       " 'AgabiA15p1|1496',\n",
       " 'AgabiA15p1|3233',\n",
       " 'AgabiA15p1|5438',\n",
       " 'AgabiA15p1|2210',\n",
       " 'AgabiA15p1|9559',\n",
       " 'AgabiA15p1|6600',\n",
       " 'AgabiA15p1|225',\n",
       " 'AgabiA15p1|7020',\n",
       " 'AgabiA15p1|3106',\n",
       " 'AgabiA15p1|10937',\n",
       " 'AgabiA15p1|8160',\n",
       " 'AgabiA15p1|3380',\n",
       " 'AgabiA15p1|4658',\n",
       " 'AgabiA15p1|1908',\n",
       " 'AgabiA15p1|3015',\n",
       " 'AgabiA15p1|9906',\n",
       " 'AgabiA15p1|3824',\n",
       " 'AgabiA15p1|2424',\n",
       " 'AgabiA15p1|6760',\n",
       " 'AgabiA15p1|952',\n",
       " 'AgabiA15p1|3222',\n",
       " 'AgabiA15p1|6212',\n",
       " 'AgabiA15p1|2632',\n",
       " 'AgabiA15p1|8223',\n",
       " 'AgabiA15p1|9298',\n",
       " 'AgabiA15p1|10058',\n",
       " 'AgabiA15p1|5124',\n",
       " 'AgabiA15p1|1418',\n",
       " 'AgabiA15p1|2777',\n",
       " 'AgabiA15p1|1479',\n",
       " 'AgabiA15p1|5877',\n",
       " 'AgabiA15p1|10248',\n",
       " 'AgabiA15p1|6083',\n",
       " 'AgabiA15p1|6532',\n",
       " 'AgabiA15p1|8101',\n",
       " 'AgabiA15p1|4629',\n",
       " 'AgabiA15p1|6333',\n",
       " 'AgabiA15p1|9199',\n",
       " 'AgabiA15p1|6408',\n",
       " 'AgabiA15p1|3690',\n",
       " 'AgabiA15p1|4661',\n",
       " 'AgabiA15p1|1470',\n",
       " 'AgabiA15p1|10974',\n",
       " 'AgabiA15p1|238',\n",
       " 'AgabiA15p1|700',\n",
       " 'AgabiA15p1|40',\n",
       " 'AgabiA15p1|10856',\n",
       " 'AgabiA15p1|4702',\n",
       " 'AgabiA15p1|6264',\n",
       " 'AgabiA15p1|8835',\n",
       " 'AgabiA15p1|6371',\n",
       " 'AgabiA15p1|9532',\n",
       " 'AgabiA15p1|6859',\n",
       " 'AgabiA15p1|1226',\n",
       " 'AgabiA15p1|6537',\n",
       " 'AgabiA15p1|6995',\n",
       " 'AgabiA15p1|6938',\n",
       " 'AgabiA15p1|3806',\n",
       " 'AgabiA15p1|3105',\n",
       " 'AgabiA15p1|10561',\n",
       " 'AgabiA15p1|2510',\n",
       " 'AgabiA15p1|7871',\n",
       " 'AgabiA15p1|7185',\n",
       " 'AgabiA15p1|9432',\n",
       " 'AgabiA15p1|5453',\n",
       " 'AgabiA15p1|7018',\n",
       " 'AgabiA15p1|3675',\n",
       " 'AgabiA15p1|2985',\n",
       " 'AgabiA15p1|6806',\n",
       " 'AgabiA15p1|4752',\n",
       " 'AgabiA15p1|2489',\n",
       " 'AgabiA15p1|8188',\n",
       " 'AgabiA15p1|4596',\n",
       " 'AgabiA15p1|2928',\n",
       " 'AgabiA15p1|4384',\n",
       " 'AgabiA15p1|6430',\n",
       " 'AgabiA15p1|1596',\n",
       " 'AgabiA15p1|6709',\n",
       " 'AgabiA15p1|402',\n",
       " 'AgabiA15p1|686',\n",
       " 'AgabiA15p1|2053',\n",
       " 'AgabiA15p1|7065',\n",
       " 'AgabiA15p1|4361',\n",
       " 'AgabiA15p1|1879',\n",
       " 'AgabiA15p1|3305',\n",
       " 'AgabiA15p1|6397',\n",
       " 'AgabiA15p1|2140',\n",
       " 'AgabiA15p1|5366',\n",
       " 'AgabiA15p1|531',\n",
       " 'AgabiA15p1|2751',\n",
       " 'AgabiA15p1|1152',\n",
       " 'AgabiA15p1|6285',\n",
       " 'AgabiA15p1|5771',\n",
       " 'AgabiA15p1|2073',\n",
       " 'AgabiA15p1|6330',\n",
       " 'AgabiA15p1|5383',\n",
       " 'AgabiA15p1|10772',\n",
       " 'AgabiA15p1|10913',\n",
       " 'AgabiA15p1|6358',\n",
       " 'AgabiA15p1|4344',\n",
       " 'AgabiA15p1|6352',\n",
       " 'AgabiA15p1|6774',\n",
       " 'AgabiA15p1|248',\n",
       " 'AgabiA15p1|3558',\n",
       " 'AgabiA15p1|6504',\n",
       " 'AgabiA15p1|410',\n",
       " 'AgabiA15p1|6420',\n",
       " 'AgabiA15p1|1454',\n",
       " 'AgabiA15p1|6631',\n",
       " 'AgabiA15p1|35',\n",
       " 'AgabiA15p1|7176',\n",
       " 'AgabiA15p1|6027',\n",
       " 'AgabiA15p1|8181',\n",
       " 'AgabiA15p1|3162',\n",
       " 'AgabiA15p1|6165',\n",
       " 'AgabiA15p1|10069',\n",
       " 'AgabiA15p1|8987',\n",
       " 'AgabiA15p1|7925',\n",
       " 'AgabiA15p1|6415',\n",
       " 'AgabiA15p1|4189',\n",
       " 'AgabiA15p1|5718',\n",
       " 'AgabiA15p1|6141',\n",
       " 'AgabiA15p1|2711',\n",
       " 'AgabiA15p1|3204',\n",
       " 'AgabiA15p1|1679',\n",
       " 'AgabiA15p1|8367',\n",
       " 'AgabiA15p1|5856',\n",
       " 'AgabiA15p1|2724',\n",
       " 'AgabiA15p1|5691',\n",
       " 'AgabiA15p1|8378',\n",
       " 'AgabiA15p1|6665',\n",
       " 'AgabiA15p1|3922',\n",
       " 'AgabiA15p1|769',\n",
       " 'AgabiA15p1|1324',\n",
       " 'AgabiA15p1|5683',\n",
       " 'AgabiA15p1|5770',\n",
       " 'AgabiA15p1|3671',\n",
       " 'AgabiA15p1|3148',\n",
       " 'AgabiA15p1|6320',\n",
       " 'AgabiA15p1|2919',\n",
       " 'AgabiA15p1|3199',\n",
       " 'AgabiA15p1|7179',\n",
       " 'AgabiA15p1|9146',\n",
       " 'AgabiA15p1|6802',\n",
       " 'AgabiA15p1|7733',\n",
       " 'AgabiA15p1|388',\n",
       " 'AgabiA15p1|3991',\n",
       " 'AgabiA15p1|1477',\n",
       " 'AgabiA15p1|497',\n",
       " 'AgabiA15p1|311',\n",
       " 'AgabiA15p1|4003',\n",
       " 'AgabiA15p1|572',\n",
       " 'AgabiA15p1|1508',\n",
       " 'AgabiA15p1|3166',\n",
       " 'AgabiA15p1|3214',\n",
       " 'AgabiA15p1|134',\n",
       " 'AgabiA15p1|429',\n",
       " 'AgabiA15p1|8679',\n",
       " 'AgabiA15p1|1916',\n",
       " 'AgabiA15p1|8781',\n",
       " 'AgabiA15p1|578',\n",
       " 'AgabiA15p1|913',\n",
       " 'AgabiA15p1|9341',\n",
       " 'AgabiA15p1|9638',\n",
       " 'AgabiA15p1|6245',\n",
       " 'AgabiA15p1|6551',\n",
       " 'AgabiA15p1|6157',\n",
       " 'AgabiA15p1|5828',\n",
       " 'AgabiA15p1|6136',\n",
       " 'AgabiA15p1|9213',\n",
       " 'AgabiA15p1|29',\n",
       " 'AgabiA15p1|6278',\n",
       " 'AgabiA15p1|2520',\n",
       " 'AgabiA15p1|7028',\n",
       " 'AgabiA15p1|3376',\n",
       " 'AgabiA15p1|9547',\n",
       " 'AgabiA15p1|1674',\n",
       " 'AgabiA15p1|10243',\n",
       " 'AgabiA15p1|4682',\n",
       " 'AgabiA15p1|8033',\n",
       " 'AgabiA15p1|4494',\n",
       " 'AgabiA15p1|696',\n",
       " 'AgabiA15p1|707',\n",
       " 'AgabiA15p1|291',\n",
       " 'AgabiA15p1|5857',\n",
       " 'AgabiA15p1|9123',\n",
       " 'AgabiA15p1|10258',\n",
       " 'AgabiA15p1|9474',\n",
       " 'AgabiA15p1|9546',\n",
       " 'AgabiA15p1|3815',\n",
       " 'AgabiA15p1|7230',\n",
       " 'AgabiA15p1|2686',\n",
       " 'AgabiA15p1|132',\n",
       " 'AgabiA15p1|1172',\n",
       " 'AgabiA15p1|735',\n",
       " 'AgabiA15p1|399',\n",
       " 'AgabiA15p1|1320',\n",
       " 'AgabiA15p1|3763',\n",
       " 'AgabiA15p1|6730',\n",
       " 'AgabiA15p1|5825',\n",
       " 'AgabiA15p1|580',\n",
       " 'AgabiA15p1|6306',\n",
       " 'AgabiA15p1|3000',\n",
       " 'AgabiA15p1|2900',\n",
       " 'AgabiA15p1|3505',\n",
       " 'AgabiA15p1|1560',\n",
       " 'AgabiA15p1|2497',\n",
       " 'AgabiA15p1|6641',\n",
       " 'AgabiA15p1|3587',\n",
       " 'AgabiA15p1|1792',\n",
       " 'AgabiA15p1|5518',\n",
       " 'AgabiA15p1|2916',\n",
       " 'AgabiA15p1|632',\n",
       " 'AgabiA15p1|227',\n",
       " 'AgabiA15p1|6525',\n",
       " 'AgabiA15p1|3717',\n",
       " 'AgabiA15p1|3379',\n",
       " 'AgabiA15p1|4119',\n",
       " 'AgabiA15p1|1971',\n",
       " 'AgabiA15p1|41',\n",
       " 'AgabiA15p1|5752',\n",
       " 'AgabiA15p1|9322',\n",
       " 'AgabiA15p1|10916',\n",
       " 'AgabiA15p1|4580',\n",
       " 'AgabiA15p1|2118',\n",
       " 'AgabiA15p1|6182',\n",
       " 'AgabiA15p1|365',\n",
       " 'AgabiA15p1|267',\n",
       " 'AgabiA15p1|9286',\n",
       " 'AgabiA15p1|7212',\n",
       " 'AgabiA15p1|4345',\n",
       " 'AgabiA15p1|4266',\n",
       " 'AgabiA15p1|4693',\n",
       " 'AgabiA15p1|10463',\n",
       " 'AgabiA15p1|4225',\n",
       " 'AgabiA15p1|6220',\n",
       " 'AgabiA15p1|6200',\n",
       " 'AgabiA15p1|9949',\n",
       " 'AgabiA15p1|6929',\n",
       " 'AgabiA15p1|5563',\n",
       " 'AgabiA15p1|5830',\n",
       " 'AgabiA15p1|8053',\n",
       " 'AgabiA15p1|5555',\n",
       " 'AgabiA15p1|2882',\n",
       " 'AgabiA15p1|156',\n",
       " 'AgabiA15p1|9689',\n",
       " 'AgabiA15p1|7404',\n",
       " 'AgabiA15p1|3595',\n",
       " 'AgabiA15p1|4202',\n",
       " 'AgabiA15p1|6912',\n",
       " 'AgabiA15p1|2061',\n",
       " 'AgabiA15p1|8249',\n",
       " 'AgabiA15p1|9041',\n",
       " 'AgabiA15p1|5525',\n",
       " 'AgabiA15p1|2874',\n",
       " 'AgabiA15p1|4342',\n",
       " 'AgabiA15p1|319',\n",
       " 'AgabiA15p1|4193',\n",
       " 'AgabiA15p1|2999',\n",
       " 'AgabiA15p1|5609',\n",
       " 'AgabiA15p1|343',\n",
       " 'AgabiA15p1|157',\n",
       " 'AgabiA15p1|4464',\n",
       " 'AgabiA15p1|8352',\n",
       " 'AgabiA15p1|2139',\n",
       " 'AgabiA15p1|4601',\n",
       " 'AgabiA15p1|9457',\n",
       " 'AgabiA15p1|8996',\n",
       " 'AgabiA15p1|546',\n",
       " 'AgabiA15p1|7178',\n",
       " 'AgabiA15p1|9503',\n",
       " 'AgabiA15p1|10410',\n",
       " 'AgabiA15p1|9409',\n",
       " 'AgabiA15p1|7025',\n",
       " 'AgabiA15p1|3468',\n",
       " 'AgabiA15p1|9336',\n",
       " 'AgabiA15p1|5890',\n",
       " 'AgabiA15p1|4071',\n",
       " 'AgabiA15p1|1662',\n",
       " 'AgabiA15p1|9908',\n",
       " 'AgabiA15p1|203',\n",
       " 'AgabiA15p1|8292',\n",
       " 'AgabiA15p1|9996',\n",
       " 'AgabiA15p1|2687',\n",
       " 'AgabiA15p1|3759',\n",
       " 'AgabiA15p1|6349',\n",
       " 'AgabiA15p1|6763',\n",
       " 'AgabiA15p1|3042',\n",
       " 'AgabiA15p1|4576',\n",
       " 'AgabiA15p1|7923',\n",
       " 'AgabiA15p1|6497',\n",
       " 'AgabiA15p1|573',\n",
       " 'AgabiA15p1|1844',\n",
       " 'AgabiA15p1|6729',\n",
       " 'AgabiA15p1|9033',\n",
       " 'AgabiA15p1|1419',\n",
       " 'AgabiA15p1|1183',\n",
       " 'AgabiA15p1|5791',\n",
       " 'AgabiA15p1|9226',\n",
       " 'AgabiA15p1|6555',\n",
       " 'AgabiA15p1|1564',\n",
       " 'AgabiA15p1|2078',\n",
       " 'AgabiA15p1|2618',\n",
       " 'AgabiA15p1|3531',\n",
       " 'AgabiA15p1|1466',\n",
       " 'AgabiA15p1|8985',\n",
       " 'AgabiA15p1|6303',\n",
       " 'AgabiA15p1|1499',\n",
       " 'AgabiA15p1|6889',\n",
       " 'AgabiA15p1|6721',\n",
       " 'AgabiA15p1|10351',\n",
       " 'AgabiA15p1|9065',\n",
       " 'AgabiA15p1|8184',\n",
       " 'AgabiA15p1|3030',\n",
       " 'AgabiA15p1|9209',\n",
       " 'AgabiA15p1|4557',\n",
       " 'AgabiA15p1|5480',\n",
       " 'AgabiA15p1|8466',\n",
       " 'AgabiA15p1|6144',\n",
       " 'AgabiA15p1|4348',\n",
       " 'AgabiA15p1|8142',\n",
       " 'AgabiA15p1|752',\n",
       " 'AgabiA15p1|9081',\n",
       " 'AgabiA15p1|8228',\n",
       " 'AgabiA15p1|8285',\n",
       " 'AgabiA15p1|1638',\n",
       " 'AgabiA15p1|9793',\n",
       " 'AgabiA15p1|2604',\n",
       " 'AgabiA15p1|1505',\n",
       " 'AgabiA15p1|7778',\n",
       " 'AgabiA15p1|7089',\n",
       " 'AgabiA15p1|1559',\n",
       " 'AgabiA15p1|10076',\n",
       " 'AgabiA15p1|5377',\n",
       " 'AgabiA15p1|615',\n",
       " 'AgabiA15p1|6636',\n",
       " 'AgabiA15p1|436',\n",
       " 'AgabiA15p1|4254',\n",
       " 'AgabiA15p1|1612',\n",
       " 'AgabiA15p1|3073',\n",
       " 'AgabiA15p1|3724',\n",
       " 'AgabiA15p1|6648',\n",
       " 'AgabiA15p1|10389',\n",
       " 'AgabiA15p1|3134',\n",
       " 'AgabiA15p1|8509',\n",
       " 'AgabiA15p1|9313',\n",
       " 'AgabiA15p1|8403',\n",
       " 'AgabiA15p1|5118',\n",
       " 'AgabiA15p1|6229',\n",
       " 'AgabiA15p1|8380',\n",
       " 'AgabiA15p1|8346',\n",
       " 'AgabiA15p1|2881',\n",
       " 'AgabiA15p1|2044',\n",
       " 'AgabiA15p1|3819',\n",
       " 'AgabiA15p1|4079',\n",
       " 'AgabiA15p1|260',\n",
       " 'AgabiA15p1|452',\n",
       " 'AgabiA15p1|10011',\n",
       " 'AgabiA15p1|4727',\n",
       " 'AgabiA15p1|9800',\n",
       " 'AgabiA15p1|6988',\n",
       " 'AgabiA15p1|5566',\n",
       " 'AgabiA15p1|4631',\n",
       " 'AgabiA15p1|4178',\n",
       " 'AgabiA15p1|6311',\n",
       " 'AgabiA15p1|6124',\n",
       " 'AgabiA15p1|7508',\n",
       " 'AgabiA15p1|557',\n",
       " 'AgabiA15p1|4952',\n",
       " 'AgabiA15p1|8175',\n",
       " 'AgabiA15p1|9289',\n",
       " 'AgabiA15p1|5581',\n",
       " 'AgabiA15p1|1969',\n",
       " 'AgabiA15p1|8268',\n",
       " 'AgabiA15p1|9325',\n",
       " 'AgabiA15p1|742',\n",
       " 'AgabiA15p1|4184',\n",
       " 'AgabiA15p1|9602',\n",
       " 'AgabiA15p1|486',\n",
       " 'AgabiA15p1|3220',\n",
       " 'AgabiA15p1|5436',\n",
       " 'AgabiA15p1|902',\n",
       " 'AgabiA15p1|4574',\n",
       " 'AgabiA15p1|4534',\n",
       " 'AgabiA15p1|4767',\n",
       " 'AgabiA15p1|8191',\n",
       " 'AgabiA15p1|8995',\n",
       " 'AgabiA15p1|4227',\n",
       " 'AgabiA15p1|7423',\n",
       " 'AgabiA15p1|7919',\n",
       " 'AgabiA15p1|2614',\n",
       " 'AgabiA15p1|6928',\n",
       " 'AgabiA15p1|3502',\n",
       " 'AgabiA15p1|9185',\n",
       " 'AgabiA15p1|6074',\n",
       " 'AgabiA15p1|10068',\n",
       " 'AgabiA15p1|3756',\n",
       " 'AgabiA15p1|3011',\n",
       " 'AgabiA15p1|7944',\n",
       " 'AgabiA15p1|1838',\n",
       " 'AgabiA15p1|6370',\n",
       " 'AgabiA15p1|2181',\n",
       " 'AgabiA15p1|3175',\n",
       " 'AgabiA15p1|8269',\n",
       " 'AgabiA15p1|4249',\n",
       " 'AgabiA15p1|3034',\n",
       " 'AgabiA15p1|5558',\n",
       " 'AgabiA15p1|8100',\n",
       " 'AgabiA15p1|2481',\n",
       " 'AgabiA15p1|143',\n",
       " 'AgabiA15p1|10205',\n",
       " 'AgabiA15p1|496',\n",
       " 'AgabiA15p1|7929',\n",
       " 'AgabiA15p1|2122',\n",
       " 'AgabiA15p1|9247',\n",
       " 'AgabiA15p1|302',\n",
       " 'AgabiA15p1|6418',\n",
       " 'AgabiA15p1|9114',\n",
       " 'AgabiA15p1|8029',\n",
       " 'AgabiA15p1|2083',\n",
       " 'AgabiA15p1|298',\n",
       " 'AgabiA15p1|8139',\n",
       " 'AgabiA15p1|8489',\n",
       " 'AgabiA15p1|336',\n",
       " 'AgabiA15p1|4188',\n",
       " 'AgabiA15p1|9084',\n",
       " 'AgabiA15p1|6079',\n",
       " 'AgabiA15p1|5457',\n",
       " 'AgabiA15p1|5592',\n",
       " 'AgabiA15p1|185',\n",
       " 'AgabiA15p1|5758',\n",
       " 'AgabiA15p1|1880',\n",
       " 'AgabiA15p1|3928',\n",
       " 'AgabiA15p1|8524',\n",
       " 'AgabiA15p1|10791',\n",
       " 'AgabiA15p1|5631',\n",
       " 'AgabiA15p1|308',\n",
       " 'AgabiA15p1|608',\n",
       " 'AgabiA15p1|431',\n",
       " 'AgabiA15p1|7057',\n",
       " 'AgabiA15p1|4440',\n",
       " 'AgabiA15p1|8189',\n",
       " 'AgabiA15p1|6541',\n",
       " 'AgabiA15p1|2546',\n",
       " 'AgabiA15p1|5978',\n",
       " 'AgabiA15p1|1767',\n",
       " 'AgabiA15p1|162',\n",
       " 'AgabiA15p1|5851',\n",
       " 'AgabiA15p1|2479',\n",
       " 'AgabiA15p1|6404',\n",
       " 'AgabiA15p1|5528',\n",
       " 'AgabiA15p1|10790',\n",
       " 'AgabiA15p1|7350',\n",
       " 'AgabiA15p1|4515',\n",
       " 'AgabiA15p1|6751',\n",
       " 'AgabiA15p1|7172',\n",
       " 'AgabiA15p1|2001',\n",
       " 'AgabiA15p1|437',\n",
       " 'AgabiA15p1|3590',\n",
       " 'AgabiA15p1|3062',\n",
       " 'AgabiA15p1|6287',\n",
       " 'AgabiA15p1|6143',\n",
       " 'AgabiA15p1|3640',\n",
       " 'AgabiA15p1|7008',\n",
       " 'AgabiA15p1|4788',\n",
       " 'AgabiA15p1|9495',\n",
       " 'AgabiA15p1|7009',\n",
       " 'AgabiA15p1|10596',\n",
       " 'AgabiA15p1|6596',\n",
       " 'AgabiA15p1|2025',\n",
       " 'AgabiA15p1|4259',\n",
       " 'AgabiA15p1|6881',\n",
       " 'AgabiA15p1|1014',\n",
       " 'AgabiA15p1|6142',\n",
       " 'AgabiA15p1|2914',\n",
       " 'AgabiA15p1|6047',\n",
       " 'AgabiA15p1|9461',\n",
       " 'AgabiA15p1|7088',\n",
       " 'AgabiA15p1|1373',\n",
       " 'AgabiA15p1|3359',\n",
       " 'AgabiA15p1|9889',\n",
       " 'AgabiA15p1|4560',\n",
       " 'AgabiA15p1|790',\n",
       " 'AgabiA15p1|8730',\n",
       " 'AgabiA15p1|8698',\n",
       " 'AgabiA15p1|9037',\n",
       " 'AgabiA15p1|5835',\n",
       " 'AgabiA15p1|1330',\n",
       " 'AgabiA15p1|3487',\n",
       " 'AgabiA15p1|8527',\n",
       " 'AgabiA15p1|4483',\n",
       " 'AgabiA15p1|8650',\n",
       " 'AgabiA15p1|6394',\n",
       " 'AgabiA15p1|9005',\n",
       " 'AgabiA15p1|8986',\n",
       " 'AgabiA15p1|6759',\n",
       " 'AgabiA15p1|512',\n",
       " 'AgabiA15p1|1377',\n",
       " 'AgabiA15p1|3400',\n",
       " 'AgabiA15p1|5711',\n",
       " 'AgabiA15p1|1302',\n",
       " 'AgabiA15p1|2950',\n",
       " 'AgabiA15p1|793',\n",
       " 'AgabiA15p1|6914',\n",
       " 'AgabiA15p1|4655',\n",
       " 'AgabiA15p1|8819',\n",
       " 'AgabiA15p1|7868',\n",
       " 'AgabiA15p1|9456',\n",
       " 'AgabiA15p1|4605',\n",
       " 'AgabiA15p1|6215',\n",
       " 'AgabiA15p1|7543',\n",
       " 'AgabiA15p1|6272',\n",
       " 'AgabiA15p1|1531',\n",
       " 'AgabiA15p1|276',\n",
       " 'AgabiA15p1|6696',\n",
       " 'AgabiA15p1|7323',\n",
       " 'AgabiA15p1|652',\n",
       " 'AgabiA15p1|10247',\n",
       " 'AgabiA15p1|8385',\n",
       " 'AgabiA15p1|12',\n",
       " 'AgabiA15p1|1592',\n",
       " 'AgabiA15p1|869',\n",
       " 'AgabiA15p1|8889',\n",
       " 'AgabiA15p1|10116',\n",
       " 'AgabiA15p1|685',\n",
       " 'AgabiA15p1|10955',\n",
       " 'AgabiA15p1|8291',\n",
       " 'AgabiA15p1|39',\n",
       " 'AgabiA15p1|4095',\n",
       " 'AgabiA15p1|2172',\n",
       " 'AgabiA15p1|3818',\n",
       " 'AgabiA15p1|561',\n",
       " 'AgabiA15p1|9529',\n",
       " 'AgabiA15p1|809',\n",
       " 'AgabiA15p1|3720',\n",
       " 'AgabiA15p1|6533',\n",
       " 'AgabiA15p1|1072',\n",
       " 'AgabiA15p1|4042',\n",
       " 'AgabiA15p1|1585',\n",
       " 'AgabiA15p1|575',\n",
       " 'AgabiA15p1|10606',\n",
       " 'AgabiA15p1|5990',\n",
       " 'AgabiA15p1|9309',\n",
       " 'AgabiA15p1|7865',\n",
       " 'AgabiA15p1|7098',\n",
       " 'AgabiA15p1|8687',\n",
       " 'AgabiA15p1|10265',\n",
       " 'AgabiA15p1|7542',\n",
       " 'AgabiA15p1|384',\n",
       " 'AgabiA15p1|382',\n",
       " 'AgabiA15p1|8415',\n",
       " 'AgabiA15p1|6154',\n",
       " 'AgabiA15p1|3463',\n",
       " 'AgabiA15p1|1189',\n",
       " 'AgabiA15p1|9142',\n",
       " 'AgabiA15p1|3002',\n",
       " 'AgabiA15p1|6500',\n",
       " 'AgabiA15p1|8499',\n",
       " 'AgabiA15p1|8827',\n",
       " 'AgabiA15p1|2103',\n",
       " 'AgabiA15p1|6766',\n",
       " 'AgabiA15p1|6776',\n",
       " 'AgabiA15p1|210',\n",
       " 'AgabiA15p1|657',\n",
       " 'AgabiA15p1|2639',\n",
       " 'AgabiA15p1|6274',\n",
       " 'AgabiA15p1|347',\n",
       " 'AgabiA15p1|3999',\n",
       " 'AgabiA15p1|7901',\n",
       " 'AgabiA15p1|3908',\n",
       " 'AgabiA15p1|5688',\n",
       " 'AgabiA15p1|373',\n",
       " 'AgabiA15p1|5491',\n",
       " 'AgabiA15p1|4078',\n",
       " 'AgabiA15p1|7963',\n",
       " 'AgabiA15p1|9050',\n",
       " 'AgabiA15p1|10329',\n",
       " 'AgabiA15p1|5370',\n",
       " 'AgabiA15p1|8947',\n",
       " 'AgabiA15p1|4864',\n",
       " 'AgabiA15p1|1997',\n",
       " 'AgabiA15p1|4364',\n",
       " 'AgabiA15p1|6732',\n",
       " 'AgabiA15p1|8238',\n",
       " 'AgabiA15p1|5921',\n",
       " 'AgabiA15p1|8211',\n",
       " 'AgabiA15p1|9956',\n",
       " 'AgabiA15p1|6423',\n",
       " 'AgabiA15p1|3906',\n",
       " 'AgabiA15p1|8138',\n",
       " 'AgabiA15p1|6575',\n",
       " 'AgabiA15p1|782',\n",
       " 'AgabiA15p1|2875',\n",
       " 'AgabiA15p1|9022',\n",
       " 'AgabiA15p1|774',\n",
       " 'AgabiA15p1|8004',\n",
       " 'AgabiA15p1|6780',\n",
       " 'AgabiA15p1|7427',\n",
       " 'AgabiA15p1|5941',\n",
       " 'AgabiA15p1|4245',\n",
       " 'AgabiA15p1|2095',\n",
       " 'AgabiA15p1|9010',\n",
       " 'AgabiA15p1|6216',\n",
       " 'AgabiA15p1|4915',\n",
       " 'AgabiA15p1|4205',\n",
       " 'AgabiA15p1|1115',\n",
       " 'AgabiA15p1|7238',\n",
       " 'AgabiA15p1|6830',\n",
       " 'AgabiA15p1|4370',\n",
       " 'AgabiA15p1|2659',\n",
       " 'AgabiA15p1|616',\n",
       " 'AgabiA15p1|3061',\n",
       " 'AgabiA15p1|6478',\n",
       " 'AgabiA15p1|5492',\n",
       " 'AgabiA15p1|5937',\n",
       " 'AgabiA15p1|3734',\n",
       " 'AgabiA15p1|9296',\n",
       " 'AgabiA15p1|4314',\n",
       " 'AgabiA15p1|3510',\n",
       " 'AgabiA15p1|3416',\n",
       " 'AgabiA15p1|2705',\n",
       " 'AgabiA15p1|95',\n",
       " 'AgabiA15p1|9349',\n",
       " 'AgabiA15p1|4233',\n",
       " 'AgabiA15p1|3632',\n",
       " 'AgabiA15p1|3236',\n",
       " 'AgabiA15p1|1881',\n",
       " 'AgabiA15p1|502',\n",
       " 'AgabiA15p1|6181',\n",
       " 'AgabiA15p1|1473',\n",
       " 'AgabiA15p1|4282',\n",
       " 'AgabiA15p1|10431',\n",
       " 'AgabiA15p1|6990',\n",
       " 'AgabiA15p1|484',\n",
       " 'AgabiA15p1|4019',\n",
       " 'AgabiA15p1|2952',\n",
       " 'AgabiA15p1|8250',\n",
       " 'AgabiA15p1|725',\n",
       " 'AgabiA15p1|5621',\n",
       " 'AgabiA15p1|731',\n",
       " 'AgabiA15p1|339',\n",
       " 'AgabiA15p1|6828',\n",
       " 'AgabiA15p1|3788',\n",
       " 'AgabiA15p1|4891',\n",
       " 'AgabiA15p1|3598',\n",
       " 'AgabiA15p1|7184',\n",
       " 'AgabiA15p1|8218',\n",
       " 'AgabiA15p1|1608',\n",
       " 'AgabiA15p1|9451',\n",
       " 'AgabiA15p1|9228',\n",
       " 'AgabiA15p1|3800',\n",
       " 'AgabiA15p1|2134',\n",
       " 'AgabiA15p1|7324',\n",
       " 'AgabiA15p1|3882',\n",
       " 'AgabiA15p1|6903',\n",
       " 'AgabiA15p1|5833',\n",
       " 'AgabiA15p1|10968',\n",
       " 'AgabiA15p1|421',\n",
       " 'AgabiA15p1|6855',\n",
       " 'AgabiA15p1|2060',\n",
       " 'AgabiA15p1|8197',\n",
       " 'AgabiA15p1|3067',\n",
       " 'AgabiA15p1|10016',\n",
       " 'AgabiA15p1|1885',\n",
       " 'AgabiA15p1|8717',\n",
       " 'AgabiA15p1|523',\n",
       " 'AgabiA15p1|9312',\n",
       " 'AgabiA15p1|8732',\n",
       " 'AgabiA15p1|7888',\n",
       " 'AgabiA15p1|6509',\n",
       " 'AgabiA15p1|9584',\n",
       " 'AgabiA15p1|8677',\n",
       " 'AgabiA15p1|1165',\n",
       " 'AgabiA15p1|6469',\n",
       " 'AgabiA15p1|1469',\n",
       " 'AgabiA15p1|9452',\n",
       " 'AgabiA15p1|7760',\n",
       " 'AgabiA15p1|4359',\n",
       " 'AgabiA15p1|4209',\n",
       " 'AgabiA15p1|4212',\n",
       " 'AgabiA15p1|4150',\n",
       " 'AgabiA15p1|9448',\n",
       " 'AgabiA15p1|4749',\n",
       " 'AgabiA15p1|2893',\n",
       " 'AgabiA15p1|8713',\n",
       " 'AgabiA15p1|7209',\n",
       " 'AgabiA15p1|8904',\n",
       " 'AgabiA15p1|644',\n",
       " 'AgabiA15p1|10976',\n",
       " 'AgabiA15p1|8787',\n",
       " 'AgabiA15p1|8449',\n",
       " 'AgabiA15p1|5564',\n",
       " 'AgabiA15p1|4310',\n",
       " 'AgabiA15p1|5699',\n",
       " 'AgabiA15p1|1944',\n",
       " 'AgabiA15p1|318',\n",
       " ...}"
      ]
     },
     "execution_count": 127,
     "metadata": {},
     "output_type": "execute_result"
    }
   ],
   "source": [
    "p1_diff"
   ]
  },
  {
   "cell_type": "markdown",
   "metadata": {},
   "source": [
    "# Filestamping"
   ]
  },
  {
   "cell_type": "code",
   "execution_count": 78,
   "metadata": {},
   "outputs": [
    {
     "name": "stdout",
     "output_type": "stream",
     "text": [
      "./my_new_file.rdm_thies_2023-11-20T13:42:43:370113.txt\n",
      "./my_new_file.rdm_thies_2023-11-20T13:42:43:370113.txt\n"
     ]
    }
   ],
   "source": [
    "class RDM(object):\n",
    "    def __init__(self, path, mode='w', file=False, nouser=False, suffix=True, **meta):\n",
    "        import os\n",
    "        import pathlib\n",
    "        \n",
    "        self.path = path.split('/')[:-1] if len(path.split('/')) > 1 else '.'\n",
    "        self.filename = path.split('/')[-1]\n",
    "        self.prefix = '.'.join(self.filename.split('.')[:-1]) if suffix else self.filename\n",
    "        self.suffix = self.filename.split('.')[-1] if suffix else None\n",
    "        self.jsonfile = '%s/rdm_filedescriptions.json' % self.path\n",
    "        pathlib.Path(\"/tmp/path/to/desired/directory\").mkdir(parents=True, exist_ok=True)\n",
    "        \n",
    "        meta['source'] = meta.get('source', os.getcwd())\n",
    "        meta['user']   = os.getlogin()\n",
    "        \n",
    "        self._session = {\n",
    "            'mode' : mode,\n",
    "            'file' : file,\n",
    "            'meta' : meta,\n",
    "            'nouser' : nouser\n",
    "        }\n",
    "        \n",
    "    #edef\n",
    "    \n",
    "    def _glob(self, **kwargs):\n",
    "        import glob\n",
    "        globstring = '{path}/{prefix}.{stamp}{dot}{suffix}'.format(\n",
    "            path=self.path,\n",
    "            prefix=self.prefix,\n",
    "            stamp=self._rdmstamp(**kwargs)['stamp'],\n",
    "            dot='.' if self.suffix is not None else '',\n",
    "            suffix=self.suffix if self.suffix is not None else '')\n",
    "        return sorted(glob.glob(globstring))\n",
    "    #edef\n",
    "    \n",
    "    def _rdmstamp(self, nouser=False, nodate=False):\n",
    "        import datetime\n",
    "        import os\n",
    "        \n",
    "        date = datetime.datetime.now().isoformat()\n",
    "        user = os.getlogin()\n",
    "\n",
    "        return {\n",
    "            'user' : user,\n",
    "            'date' : date,\n",
    "            'stamp' : 'rdm_{user}_{date}'.format(user=user if not nouser else '*', date=date if not nodate else '*').replace('.',':')\n",
    "        }\n",
    "    #edef\n",
    "    \n",
    "    def _rdmstamp_from_filename(self, filename):\n",
    "        stamp = filename[::-1][:filename[::-1].find('_mdr.')][::-1].split('.')[0].split('_')\n",
    "        return {\n",
    "            'user' : stamp[0],\n",
    "            'date' : stamp[1],\n",
    "            'stamp' : 'rdm_{user}_{date}'.format(user=stamp[0], date=stamp[1]).replace('.',':')\n",
    "        }\n",
    "    #edef    \n",
    "    \n",
    "    def __enter__(self):\n",
    "        import json\n",
    "        import os\n",
    "        \n",
    "        if self._session['mode'] not in ['r','w','rw']:\n",
    "            raise NotImplementedError\n",
    "        #fi\n",
    "        \n",
    "        if self._session['mode'] in [ 'r', 'rw' ]:\n",
    "            g = self._glob(nouser=self._session['nouser'], nodate=True)\n",
    "            #if len(g) == 0:\n",
    "            #    raise FileNotFoundError\n",
    "            #else\n",
    "            stampnow = self._rdmstamp()\n",
    "            self._session['stamp'] = self._rdmstamp_from_filename(g[-1]) if len(g) > 0 else stampnow\n",
    "            self._session['meta']['modified'] = stampnow['date'] if 'w' in self._session['mode'] else self._session['stamp']['date']\n",
    "        #fi\n",
    "        \n",
    "        if self._session['mode'] == 'w':\n",
    "            self._session['stamp'] = self._rdmstamp()\n",
    "            self._session['meta']['modified'] = self._session['stamp']['date']\n",
    "        #fi\n",
    "        \n",
    "        self._session['filename'] = '{path}/{prefix}.{stamp}{dot}{suffix}'.format(\n",
    "            path=self.path,\n",
    "            prefix=self.prefix,\n",
    "            stamp=self._session['stamp']['stamp'],\n",
    "            dot='.' if self.suffix is not None else '',\n",
    "            suffix=self.suffix if self.suffix is not None else '')\n",
    "        \n",
    "        if self._session['file']:\n",
    "            fd = open(session['filename'], mode)\n",
    "            self._session['fd'] = fd\n",
    "            return fd\n",
    "        #fi\n",
    "        \n",
    "        return self._session['filename']\n",
    "    #edef\n",
    "    \n",
    "    def _loadjson(self):\n",
    "        if os.path.exists(self.jsonfile):\n",
    "            with open(self.jsonfile, 'r') as ifd:\n",
    "                return json.loads(ifd.read())\n",
    "            #ewith\n",
    "        else:\n",
    "            return {}\n",
    "        #fi\n",
    "    #edef\n",
    "    \n",
    "    def _writejson(self, d):\n",
    "        with open(self.jsonfile, 'w') as ofd:\n",
    "            ofd.write(json.dumps(d, indent='    '))\n",
    "        #ewith\n",
    "    #edef\n",
    "\n",
    "    def __exit__(self, *args):\n",
    "        if self._session['file']:\n",
    "            self._session['fd'].close()\n",
    "        #fi\n",
    "        \n",
    "        js = self._loadjson()\n",
    "        js[self._session['filename']] = self._session['meta']\n",
    "        self._writejson(js)\n",
    "    #edef\n",
    "#eclass\n",
    "\n",
    "D = pd.DataFrame([[1,2,3],[4,5,6],[7,8,9]], columns=['a','b','c'])\n",
    "\n",
    "with RDM('my_new_file.txt','rw', source='repos/BIU/example.ipynb') as ofd:\n",
    "    D.to_csv(ofd, index=False)\n",
    "    \n",
    "with RDM('my_new_file.txt', 'r') as ifd:\n",
    "    X = pd.read_csv(ifd)"
   ]
  },
  {
   "cell_type": "code",
   "execution_count": 74,
   "metadata": {},
   "outputs": [
    {
     "data": {
      "text/html": [
       "<div>\n",
       "<style scoped>\n",
       "    .dataframe tbody tr th:only-of-type {\n",
       "        vertical-align: middle;\n",
       "    }\n",
       "\n",
       "    .dataframe tbody tr th {\n",
       "        vertical-align: top;\n",
       "    }\n",
       "\n",
       "    .dataframe thead th {\n",
       "        text-align: right;\n",
       "    }\n",
       "</style>\n",
       "<table border=\"1\" class=\"dataframe\">\n",
       "  <thead>\n",
       "    <tr style=\"text-align: right;\">\n",
       "      <th></th>\n",
       "      <th>a</th>\n",
       "      <th>b</th>\n",
       "      <th>c</th>\n",
       "    </tr>\n",
       "  </thead>\n",
       "  <tbody>\n",
       "    <tr>\n",
       "      <th>0</th>\n",
       "      <td>1</td>\n",
       "      <td>2</td>\n",
       "      <td>3</td>\n",
       "    </tr>\n",
       "    <tr>\n",
       "      <th>1</th>\n",
       "      <td>4</td>\n",
       "      <td>5</td>\n",
       "      <td>6</td>\n",
       "    </tr>\n",
       "    <tr>\n",
       "      <th>2</th>\n",
       "      <td>7</td>\n",
       "      <td>8</td>\n",
       "      <td>9</td>\n",
       "    </tr>\n",
       "  </tbody>\n",
       "</table>\n",
       "</div>"
      ],
      "text/plain": [
       "   a  b  c\n",
       "0  1  2  3\n",
       "1  4  5  6\n",
       "2  7  8  9"
      ]
     },
     "execution_count": 74,
     "metadata": {},
     "output_type": "execute_result"
    }
   ],
   "source": [
    "X"
   ]
  },
  {
   "cell_type": "code",
   "execution_count": 38,
   "metadata": {},
   "outputs": [
    {
     "data": {
      "text/plain": [
       "\u001b[0;31mInit signature:\u001b[0m  \u001b[0mFileNotFoundError\u001b[0m\u001b[0;34m(\u001b[0m\u001b[0mself\u001b[0m\u001b[0;34m,\u001b[0m \u001b[0;34m/\u001b[0m\u001b[0;34m,\u001b[0m \u001b[0;34m*\u001b[0m\u001b[0margs\u001b[0m\u001b[0;34m,\u001b[0m \u001b[0;34m**\u001b[0m\u001b[0mkwargs\u001b[0m\u001b[0;34m)\u001b[0m\u001b[0;34m\u001b[0m\u001b[0;34m\u001b[0m\u001b[0m\n",
       "\u001b[0;31mDocstring:\u001b[0m      File not found.\n",
       "\u001b[0;31mType:\u001b[0m           type\n",
       "\u001b[0;31mSubclasses:\u001b[0m     JoblibFileNotFoundError, ExecutableNotFoundError\n"
      ]
     },
     "metadata": {},
     "output_type": "display_data"
    }
   ],
   "source": [
    "? FileNotFoundError"
   ]
  },
  {
   "cell_type": "code",
   "execution_count": 33,
   "metadata": {},
   "outputs": [
    {
     "data": {
      "text/plain": [
       "'2023-11-17T13:57:19.000285'"
      ]
     },
     "execution_count": 33,
     "metadata": {},
     "output_type": "execute_result"
    }
   ],
   "source": [
    "d = datetime.datetime.now().isoformat()\n",
    "d.isoformat()"
   ]
  },
  {
   "cell_type": "code",
   "execution_count": 21,
   "metadata": {},
   "outputs": [
    {
     "data": {
      "text/plain": [
       "\u001b[0;31mInit signature:\u001b[0m  \u001b[0mdatetime\u001b[0m\u001b[0;34m.\u001b[0m\u001b[0mdatetime\u001b[0m\u001b[0;34m(\u001b[0m\u001b[0mself\u001b[0m\u001b[0;34m,\u001b[0m \u001b[0;34m/\u001b[0m\u001b[0;34m,\u001b[0m \u001b[0;34m*\u001b[0m\u001b[0margs\u001b[0m\u001b[0;34m,\u001b[0m \u001b[0;34m**\u001b[0m\u001b[0mkwargs\u001b[0m\u001b[0;34m)\u001b[0m\u001b[0;34m\u001b[0m\u001b[0;34m\u001b[0m\u001b[0m\n",
       "\u001b[0;31mDocstring:\u001b[0m     \n",
       "datetime(year, month, day[, hour[, minute[, second[, microsecond[,tzinfo]]]]])\n",
       "\n",
       "The year, month and day arguments are required. tzinfo may be None, or an\n",
       "instance of a tzinfo subclass. The remaining arguments may be ints.\n",
       "\u001b[0;31mFile:\u001b[0m           /mnt/b/thies/miniconda/envs/biu/lib/python3.8/datetime.py\n",
       "\u001b[0;31mType:\u001b[0m           type\n",
       "\u001b[0;31mSubclasses:\u001b[0m     ABCTimestamp, _NaT\n"
      ]
     },
     "metadata": {},
     "output_type": "display_data"
    }
   ],
   "source": [
    "? datetime.datetime"
   ]
  },
  {
   "cell_type": "code",
   "execution_count": null,
   "metadata": {},
   "outputs": [],
   "source": []
  }
 ],
 "metadata": {
  "kernelspec": {
   "display_name": "Python 3",
   "language": "python",
   "name": "python3"
  },
  "language_info": {
   "codemirror_mode": {
    "name": "ipython",
    "version": 3
   },
   "file_extension": ".py",
   "mimetype": "text/x-python",
   "name": "python",
   "nbconvert_exporter": "python",
   "pygments_lexer": "ipython3",
   "version": "3.8.10"
  }
 },
 "nbformat": 4,
 "nbformat_minor": 4
}
